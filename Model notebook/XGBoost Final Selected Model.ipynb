{
 "cells": [
  {
   "cell_type": "code",
   "execution_count": null,
   "metadata": {
    "collapsed": true
   },
   "outputs": [],
   "source": [
    "import numpy as np\n",
    "import pandas as pd\n",
    "from gensim.parsing.preprocessing import preprocess_string,preprocess_documents\n",
    "from gensim import corpora,models, similarities\n",
    "import nltk\n",
    "import matplotlib.pyplot as plt\n",
    "import seaborn as sns\n",
    "from sklearn.externals import joblib\n",
    "from sklearn.ensemble import RandomForestClassifier, ExtraTreesClassifier, GradientBoostingClassifier, AdaBoostClassifier\n",
    "from sklearn.metrics import log_loss\n",
    "from sklearn.model_selection import cross_val_predict, cross_val_score, train_test_split, StratifiedKFold\n",
    "from sklearn import preprocessing\n",
    "from scipy import sparse\n",
    "from sklearn.feature_extraction.text import TfidfVectorizer, CountVectorizer\n",
    "from sklearn.tree import DecisionTreeClassifier\n",
    "from mlxtend.classifier import EnsembleVoteClassifier\n",
    "import re\n",
    "import xgboost as xgb\n",
    "color = sns.color_palette()\n",
    "%matplotlib inline\n",
    "from xgboost import XGBClassifier\n",
    "from sklearn import metrics"
   ]
  },
  {
   "cell_type": "code",
   "execution_count": null,
   "metadata": {
    "collapsed": true
   },
   "outputs": [],
   "source": [
    "df1 = pd.read_csv('newdfcleaned.csv', encoding=\"ISO-8859-1\")\n",
    "df1 = df1.drop('Unnamed: 0', 1)\n",
    "df1.head()"
   ]
  },
  {
   "cell_type": "code",
   "execution_count": null,
   "metadata": {
    "collapsed": true
   },
   "outputs": [],
   "source": [
    "df2 = pd.read_csv('essay_features.csv')\n",
    "df2.fillna(0, inplace=True)\n",
    "full_df = df1.merge(df2, how = 'left', left_on='essay_id', right_on='essay_id')\n",
    "full_df.head()"
   ]
  },
  {
   "cell_type": "code",
   "execution_count": null,
   "metadata": {
    "collapsed": true
   },
   "outputs": [],
   "source": [
    "c_vect = CountVectorizer(stop_words='english', max_features=200, ngram_range=(1, 1))\n",
    "c_vect.fit(df1['essay'])\n",
    "\n",
    "c_vect_sparse_1 = c_vect.transform(df1['essay'])\n",
    "c_vect_sparse1_cols = c_vect.get_feature_names()\n"
   ]
  },
  {
   "cell_type": "code",
   "execution_count": null,
   "metadata": {
    "collapsed": true
   },
   "outputs": [],
   "source": [
    "pred_feats = ['essay_set'] + full_df.columns.values[6:].tolist()\n",
    "df_cv1_sparse = sparse.hstack((full_df[pred_feats].astype(float), c_vect_sparse_1)).tocsr()"
   ]
  },
  {
   "cell_type": "markdown",
   "metadata": {},
   "source": [
    "Note pickle can also be loaded instead"
   ]
  },
  {
   "cell_type": "code",
   "execution_count": null,
   "metadata": {
    "collapsed": true
   },
   "outputs": [],
   "source": [
    "SEED = 777\n",
    "NFOLDS = 5\n",
    "\n",
    "params = {\n",
    "    'eta':.01,\n",
    "    'colsample_bytree':.8,\n",
    "    'subsample':.8,\n",
    "    'seed':0,\n",
    "    'nthread':16,\n",
    "    'objective':'multi:softprob',\n",
    "    'eval_metric':'mlogloss',\n",
    "    'num_class':7,\n",
    "    'silent':1\n",
    "}\n",
    "\n",
    "x_train = df_cv1_sparse.toarray()\n",
    "dtrain = xgb.DMatrix(data=x_train, label=y_train1)\n",
    "\n",
    "bst = xgb.cv(params, dtrain, 10000, NFOLDS, early_stopping_rounds=50, verbose_eval=25)\n",
    "\n",
    "best_rounds = np.argmin(bst['test-mlogloss-mean'])\n",
    "\n",
    "bst = xgb.train(params, dtrain, best_rounds)"
   ]
  },
  {
   "cell_type": "code",
   "execution_count": null,
   "metadata": {
    "collapsed": true
   },
   "outputs": [],
   "source": [
    "dtrain = xgb.DMatrix(data=x_train)\n",
    "xgb_pred = bst.predict(dtrain)\n",
    "print \"log loss of probability predictions: \", metrics.log_loss(y_train1, xgb_pred)\n",
    "preds = pd.DataFrame(xgb_pred)\n",
    "\n",
    "preds['essay_id'] = df1.essay_id.values\n",
    "\n",
    "preds['scores'] = preds[[0,1,2,3,4,5,6]].idxmax(axis = 1)\n",
    "metrics.accuracy_score(y_train1, preds.scores)"
   ]
  }
 ],
 "metadata": {
  "kernelspec": {
   "display_name": "Python [default]",
   "language": "python",
   "name": "python2"
  },
  "language_info": {
   "codemirror_mode": {
    "name": "ipython",
    "version": 2
   },
   "file_extension": ".py",
   "mimetype": "text/x-python",
   "name": "python",
   "nbconvert_exporter": "python",
   "pygments_lexer": "ipython2",
   "version": "2.7.12"
  }
 },
 "nbformat": 4,
 "nbformat_minor": 1
}
