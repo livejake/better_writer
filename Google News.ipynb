{
 "cells": [
  {
   "cell_type": "code",
   "execution_count": 5,
   "metadata": {
    "collapsed": false
   },
   "outputs": [],
   "source": [
    "import gensim\n",
    "# Load Google's pre-trained Word2Vec model.\n",
    "model = gensim.models.KeyedVectors.load_word2vec_format('GoogleNews-vectors-negative300.bin', binary=True)  \n"
   ]
  },
  {
   "cell_type": "code",
   "execution_count": 10,
   "metadata": {
    "collapsed": true
   },
   "outputs": [],
   "source": [
    "from gensim.parsing.preprocessing import preprocess_string\n"
   ]
  },
  {
   "cell_type": "code",
   "execution_count": 12,
   "metadata": {
    "collapsed": false
   },
   "outputs": [],
   "source": [
    "test = preprocess_string(\"\"\"The F.B.I. director, James B. Comey, took the extraordinary step on Monday of announcing that the F.B.I. is investigating whether members of President Trump’s campaign colluded with Russia to influence the 2016 election.\n",
    "Mr. Comey’s remarks before the House Intelligence Committee created a treacherous political moment for Mr. Trump, who has insisted that “Russia is fake news” that was cooked up by his political opponents to undermine his presidency. Mr. Comey placed a criminal investigation at the doorstep of the White House and said agents would pursue it “no matter how long that takes.” Mr. Comey also dismissed Mr. Trump’s claim that he was wiretapped by his predecessor during the campaign, a sensational but unfounded accusation that has served as a distraction in the public debate over Russian election interference.\n",
    "The New York Times and other news organizations have reported the existence of the investigation into the Trump campaign and its relationship with Russia, but the White House dismissed those reports as politically motivated and rallied political allies to rebut them. Mr. Comey’s testimony on Monday was the first public acknowledgment of the case. The F.B.I. typically discloses its investigations only in the rare circumstances when officials believe it is in the public interest. “This is one of those circumstances,” Mr. Comey said.\n",
    "Counterintelligence investigations are among the F.B.I.’s most difficult and time-consuming cases, meaning the cloud of a federal investigation could hang over the Trump administration for years.\n",
    "American intelligence agencies concluded in January that the President Vladimir V. Putin of Russia personally ordered a covert effort to hurt Hillary Clinton’s chances and aid Mr. Trump. That included the hacking of political targets including the Democratic National Committee and releasing embarrassing emails through the website WikiLeaks.\n",
    "Mr. Comey said the F.B.I. was “investigating the nature of any links between individuals associated with the Trump campaign and the Russian government, and whether there was any coordination between the campaign and Russia’s efforts.”\n",
    "American officials have said that they have so far found no proof of that, but current and former officials say they have uncovered evidence that Mr. Trump’s associates were in repeated contact with Russian officials — including people tied to Russian intelligence.\n",
    "Roger J. Stone Jr., a longtime adviser to Mr. Trump, has acknowledged communicating with Guccifer 2.0, an online persona believed to be a front for Russian intelligence officials involved in disseminating hacked Democratic emails. Mr. Stone has denied that there was anything improper about the contact, and he was one of many, including political operatives and journalists, to communicate with the hackers. Last July, the month that WikiLeaks began releasing the hacked emails, Carter Page, a foreign policy adviser to Mr. Trump, visited Moscow for a speaking engagement. Mr. Page has declined to say whom he met there, but he has said they were mostly scholars.\n",
    "\"\"\")"
   ]
  },
  {
   "cell_type": "code",
   "execution_count": 20,
   "metadata": {
    "collapsed": false
   },
   "outputs": [
    {
     "data": {
      "text/plain": [
       "u'director jame comei took extraordinari step mondai announc investig member presid trump\\u2019 campaign collud russia influenc elect comey\\u2019 remark hous intellig committe creat treacher polit moment trump insist \\u201crussia fake news\\u201d cook polit oppon undermin presid comei place crimin investig doorstep white hous said agent pursu \\u201cno matter long take comei dismiss trump\\u2019 claim wiretap predecessor campaign sensat unfound accus serv distract public debat russian elect interfer new york time new organ report exist investig trump campaign relationship russia white hous dismiss report polit motiv ralli polit alli rebut comey\\u2019 testimoni mondai public acknowledg case typic disclos investig rare circumst offici believ public \\u201cthi circumst comei said counterintellig investig difficult time consum case mean cloud feder investig hang trump administr year american intellig agenc conclud januari presid vladimir putin russia person order covert effort hurt hillari clinton\\u2019 chanc aid trump includ hack polit target includ democrat nation committe releas embarrass email websit wikileak comei said \\u201cinvestig natur link individu associ trump campaign russian govern coordin campaign russia\\u2019 effort american offici said far proof current offici uncov evid trump\\u2019 associ repeat contact russian offici includ peopl ti russian intellig roger stone longtim advis trump acknowledg commun guccif onlin persona believ russian intellig offici involv dissemin hack democrat email stone deni improp contact includ polit oper journalist commun hacker juli month wikileak began releas hack email carter page foreign polici advis trump visit moscow speak engag page declin met said scholar'"
      ]
     },
     "execution_count": 20,
     "metadata": {},
     "output_type": "execute_result"
    }
   ],
   "source": [
    "\" \".join(test)"
   ]
  },
  {
   "cell_type": "code",
   "execution_count": 21,
   "metadata": {
    "collapsed": false
   },
   "outputs": [
    {
     "ename": "KeyError",
     "evalue": "u\"word 'director jame comei took extraordinari step mondai announc investig member presid trump\\u2019 campaign collud russia influenc elect comey\\u2019 remark hous intellig committe creat treacher polit moment trump insist \\u201crussia fake news\\u201d cook polit oppon undermin presid comei place crimin investig doorstep white hous said agent pursu \\u201cno matter long take comei dismiss trump\\u2019 claim wiretap predecessor campaign sensat unfound accus serv distract public debat russian elect interfer new york time new organ report exist investig trump campaign relationship russia white hous dismiss report polit motiv ralli polit alli rebut comey\\u2019 testimoni mondai public acknowledg case typic disclos investig rare circumst offici believ public \\u201cthi circumst comei said counterintellig investig difficult time consum case mean cloud feder investig hang trump administr year american intellig agenc conclud januari presid vladimir putin russia person order covert effort hurt hillari clinton\\u2019 chanc aid trump includ hack polit target includ democrat nation committe releas embarrass email websit wikileak comei said \\u201cinvestig natur link individu associ trump campaign russian govern coordin campaign russia\\u2019 effort american offici said far proof current offici uncov evid trump\\u2019 associ repeat contact russian offici includ peopl ti russian intellig roger stone longtim advis trump acknowledg commun guccif onlin persona believ russian intellig offici involv dissemin hack democrat email stone deni improp contact includ polit oper journalist commun hacker juli month wikileak began releas hack email carter page foreign polici advis trump visit moscow speak engag page declin met said scholar' not in vocabulary\"",
     "output_type": "error",
     "traceback": [
      "\u001b[0;31m---------------------------------------------------------------------------\u001b[0m",
      "\u001b[0;31mKeyError\u001b[0m                                  Traceback (most recent call last)",
      "\u001b[0;32m<ipython-input-21-bd792f8bb505>\u001b[0m in \u001b[0;36m<module>\u001b[0;34m()\u001b[0m\n\u001b[0;32m----> 1\u001b[0;31m \u001b[0mmodel\u001b[0m\u001b[0;34m.\u001b[0m\u001b[0mmost_similar\u001b[0m\u001b[0;34m(\u001b[0m\u001b[0;34m\" \"\u001b[0m\u001b[0;34m.\u001b[0m\u001b[0mjoin\u001b[0m\u001b[0;34m(\u001b[0m\u001b[0mtest\u001b[0m\u001b[0;34m)\u001b[0m\u001b[0;34m)\u001b[0m\u001b[0;34m\u001b[0m\u001b[0m\n\u001b[0m",
      "\u001b[0;32m//anaconda/lib/python2.7/site-packages/gensim/models/keyedvectors.pyc\u001b[0m in \u001b[0;36mmost_similar\u001b[0;34m(self, positive, negative, topn, restrict_vocab, indexer)\u001b[0m\n\u001b[1;32m    318\u001b[0m                 \u001b[0mmean\u001b[0m\u001b[0;34m.\u001b[0m\u001b[0mappend\u001b[0m\u001b[0;34m(\u001b[0m\u001b[0mweight\u001b[0m \u001b[0;34m*\u001b[0m \u001b[0mword\u001b[0m\u001b[0;34m)\u001b[0m\u001b[0;34m\u001b[0m\u001b[0m\n\u001b[1;32m    319\u001b[0m             \u001b[0;32melse\u001b[0m\u001b[0;34m:\u001b[0m\u001b[0;34m\u001b[0m\u001b[0m\n\u001b[0;32m--> 320\u001b[0;31m                 \u001b[0mmean\u001b[0m\u001b[0;34m.\u001b[0m\u001b[0mappend\u001b[0m\u001b[0;34m(\u001b[0m\u001b[0mweight\u001b[0m \u001b[0;34m*\u001b[0m \u001b[0mself\u001b[0m\u001b[0;34m.\u001b[0m\u001b[0mword_vec\u001b[0m\u001b[0;34m(\u001b[0m\u001b[0mword\u001b[0m\u001b[0;34m,\u001b[0m \u001b[0muse_norm\u001b[0m\u001b[0;34m=\u001b[0m\u001b[0mTrue\u001b[0m\u001b[0;34m)\u001b[0m\u001b[0;34m)\u001b[0m\u001b[0;34m\u001b[0m\u001b[0m\n\u001b[0m\u001b[1;32m    321\u001b[0m                 \u001b[0;32mif\u001b[0m \u001b[0mword\u001b[0m \u001b[0;32min\u001b[0m \u001b[0mself\u001b[0m\u001b[0;34m.\u001b[0m\u001b[0mvocab\u001b[0m\u001b[0;34m:\u001b[0m\u001b[0;34m\u001b[0m\u001b[0m\n\u001b[1;32m    322\u001b[0m                     \u001b[0mall_words\u001b[0m\u001b[0;34m.\u001b[0m\u001b[0madd\u001b[0m\u001b[0;34m(\u001b[0m\u001b[0mself\u001b[0m\u001b[0;34m.\u001b[0m\u001b[0mvocab\u001b[0m\u001b[0;34m[\u001b[0m\u001b[0mword\u001b[0m\u001b[0;34m]\u001b[0m\u001b[0;34m.\u001b[0m\u001b[0mindex\u001b[0m\u001b[0;34m)\u001b[0m\u001b[0;34m\u001b[0m\u001b[0m\n",
      "\u001b[0;32m//anaconda/lib/python2.7/site-packages/gensim/models/keyedvectors.pyc\u001b[0m in \u001b[0;36mword_vec\u001b[0;34m(self, word, use_norm)\u001b[0m\n\u001b[1;32m    271\u001b[0m                 \u001b[0;32mreturn\u001b[0m \u001b[0mself\u001b[0m\u001b[0;34m.\u001b[0m\u001b[0msyn0\u001b[0m\u001b[0;34m[\u001b[0m\u001b[0mself\u001b[0m\u001b[0;34m.\u001b[0m\u001b[0mvocab\u001b[0m\u001b[0;34m[\u001b[0m\u001b[0mword\u001b[0m\u001b[0;34m]\u001b[0m\u001b[0;34m.\u001b[0m\u001b[0mindex\u001b[0m\u001b[0;34m]\u001b[0m\u001b[0;34m\u001b[0m\u001b[0m\n\u001b[1;32m    272\u001b[0m         \u001b[0;32melse\u001b[0m\u001b[0;34m:\u001b[0m\u001b[0;34m\u001b[0m\u001b[0m\n\u001b[0;32m--> 273\u001b[0;31m             \u001b[0;32mraise\u001b[0m \u001b[0mKeyError\u001b[0m\u001b[0;34m(\u001b[0m\u001b[0;34m\"word '%s' not in vocabulary\"\u001b[0m \u001b[0;34m%\u001b[0m \u001b[0mword\u001b[0m\u001b[0;34m)\u001b[0m\u001b[0;34m\u001b[0m\u001b[0m\n\u001b[0m\u001b[1;32m    274\u001b[0m \u001b[0;34m\u001b[0m\u001b[0m\n\u001b[1;32m    275\u001b[0m     \u001b[0;32mdef\u001b[0m \u001b[0mmost_similar\u001b[0m\u001b[0;34m(\u001b[0m\u001b[0mself\u001b[0m\u001b[0;34m,\u001b[0m \u001b[0mpositive\u001b[0m\u001b[0;34m=\u001b[0m\u001b[0;34m[\u001b[0m\u001b[0;34m]\u001b[0m\u001b[0;34m,\u001b[0m \u001b[0mnegative\u001b[0m\u001b[0;34m=\u001b[0m\u001b[0;34m[\u001b[0m\u001b[0;34m]\u001b[0m\u001b[0;34m,\u001b[0m \u001b[0mtopn\u001b[0m\u001b[0;34m=\u001b[0m\u001b[0;36m10\u001b[0m\u001b[0;34m,\u001b[0m \u001b[0mrestrict_vocab\u001b[0m\u001b[0;34m=\u001b[0m\u001b[0mNone\u001b[0m\u001b[0;34m,\u001b[0m \u001b[0mindexer\u001b[0m\u001b[0;34m=\u001b[0m\u001b[0mNone\u001b[0m\u001b[0;34m)\u001b[0m\u001b[0;34m:\u001b[0m\u001b[0;34m\u001b[0m\u001b[0m\n",
      "\u001b[0;31mKeyError\u001b[0m: u\"word 'director jame comei took extraordinari step mondai announc investig member presid trump\\u2019 campaign collud russia influenc elect comey\\u2019 remark hous intellig committe creat treacher polit moment trump insist \\u201crussia fake news\\u201d cook polit oppon undermin presid comei place crimin investig doorstep white hous said agent pursu \\u201cno matter long take comei dismiss trump\\u2019 claim wiretap predecessor campaign sensat unfound accus serv distract public debat russian elect interfer new york time new organ report exist investig trump campaign relationship russia white hous dismiss report polit motiv ralli polit alli rebut comey\\u2019 testimoni mondai public acknowledg case typic disclos investig rare circumst offici believ public \\u201cthi circumst comei said counterintellig investig difficult time consum case mean cloud feder investig hang trump administr year american intellig agenc conclud januari presid vladimir putin russia person order covert effort hurt hillari clinton\\u2019 chanc aid trump includ hack polit target includ democrat nation committe releas embarrass email websit wikileak comei said \\u201cinvestig natur link individu associ trump campaign russian govern coordin campaign russia\\u2019 effort american offici said far proof current offici uncov evid trump\\u2019 associ repeat contact russian offici includ peopl ti russian intellig roger stone longtim advis trump acknowledg commun guccif onlin persona believ russian intellig offici involv dissemin hack democrat email stone deni improp contact includ polit oper journalist commun hacker juli month wikileak began releas hack email carter page foreign polici advis trump visit moscow speak engag page declin met said scholar' not in vocabulary\""
     ]
    }
   ],
   "source": [
    "model.most_similar(\" \".join(test))\n"
   ]
  },
  {
   "cell_type": "code",
   "execution_count": null,
   "metadata": {
    "collapsed": true
   },
   "outputs": [],
   "source": []
  }
 ],
 "metadata": {
  "kernelspec": {
   "display_name": "Python 2",
   "language": "python",
   "name": "python2"
  },
  "language_info": {
   "codemirror_mode": {
    "name": "ipython",
    "version": 2
   },
   "file_extension": ".py",
   "mimetype": "text/x-python",
   "name": "python",
   "nbconvert_exporter": "python",
   "pygments_lexer": "ipython2",
   "version": "2.7.9"
  }
 },
 "nbformat": 4,
 "nbformat_minor": 2
}
