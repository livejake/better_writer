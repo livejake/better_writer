{
 "cells": [
  {
   "cell_type": "code",
   "execution_count": 242,
   "metadata": {
    "collapsed": false
   },
   "outputs": [],
   "source": [
    "from gutenberg.cleanup import strip_headers\n",
    "import requests\n",
    "# http://nbviewer.jupyter.org/github/rare-technologies/gensim/blob/develop/docs/notebooks/atmodel_tutorial.ipynb\n",
    "\n",
    "def load_etext(num):\n",
    "  url ='http://www.gutenberg.org/files/{0}/{0}-0.txt'.format(num)\n",
    "  data= requests.get(url)\n",
    "  return data.text\n",
    "\n",
    "texts =[]\n",
    "text_nums=[1342, 158, 121, 105, 141,\n",
    "           76,1837, 86, 3176, 8525,\n",
    "           11,12, 29042, 620,35535,\n",
    "           2701,21816, 34970, 12384,2694,\n",
    "           98,19337, 786, 1023, 1400,\n",
    "           2591]\n",
    "text_names =['Pride and Prejudice', 'Emma', 'Northanger Abbey', \"Persuasion\", \"Mansfield Park\",\n",
    "             'Adventures of Huckleberry Finn', 'The Prince and the Pauper', \"A Connecticut Yankee in King Arthur's Court\", \"The Innocents Abroad\", \"Eve's Diary\", \n",
    "             \"Alice in Wonderland\",\"Through the Looking-Glass\", \"A Tangled Tale\", \"Sylvie and Bruno\", \"Feeding the Mind\",\n",
    "            \"Moby Dick\", \"The Confidence-Man: His Masquerade\", \"Pierre; or The Ambiguities\", \"Battle-Pieces and Aspects of the War\",\"I and My Chimney\",\n",
    "             \"A Tale of Two Cities\",\"A Christmas Carol\",\"Hard Times\", \"Bleak House\", \"Great Expectations\",\n",
    "             \"Grimms’ Fairy Tales\", \n",
    "            ]\n",
    "for text_num in text_nums:\n",
    "    text = strip_headers(load_etext(text_num)).strip()\n",
    "    texts.append(text)"
   ]
  },
  {
   "cell_type": "markdown",
   "metadata": {},
   "source": [
    "# Preprocess Text\n",
    "\n",
    "- Lowercase\n",
    "- Strip Tags\n",
    "- Strip Punctuation\n",
    "- Strip Multiple Whitespaces\n",
    "- Strip Numeric\n",
    "- Remove Stopwords\n",
    "- Strip Shortwords\n",
    "- Stem Text\n"
   ]
  },
  {
   "cell_type": "code",
   "execution_count": 243,
   "metadata": {
    "collapsed": false
   },
   "outputs": [],
   "source": [
    "from gensim.parsing.preprocessing import preprocess_string,preprocess_documents\n",
    "from gensim import corpora,models, similarities\n"
   ]
  },
  {
   "cell_type": "code",
   "execution_count": 244,
   "metadata": {
    "collapsed": false
   },
   "outputs": [],
   "source": [
    "processed_docs = preprocess_documents(texts)"
   ]
  },
  {
   "cell_type": "code",
   "execution_count": 245,
   "metadata": {
    "collapsed": false
   },
   "outputs": [],
   "source": [
    "dictionary = corpora.Dictionary(processed_docs)\n",
    "dictionary.save('gutenberg.dict')"
   ]
  },
  {
   "cell_type": "code",
   "execution_count": 246,
   "metadata": {
    "collapsed": false
   },
   "outputs": [
    {
     "name": "stdout",
     "output_type": "stream",
     "text": [
      "Dictionary(27623 unique tokens: [u'fawn', u'\\u2014\\u2018the', u'woodi', u'spideri', u'\\u201cdepth\\u201d']...)\n"
     ]
    }
   ],
   "source": [
    "print(dictionary)"
   ]
  },
  {
   "cell_type": "code",
   "execution_count": 247,
   "metadata": {
    "collapsed": false
   },
   "outputs": [],
   "source": [
    "corpus = [dictionary.doc2bow(text) for text in processed_docs]\n",
    "corpora.MmCorpus.serialize('gutenberg.mm', corpus) "
   ]
  },
  {
   "cell_type": "markdown",
   "metadata": {},
   "source": [
    "# Model"
   ]
  },
  {
   "cell_type": "code",
   "execution_count": 248,
   "metadata": {
    "collapsed": false
   },
   "outputs": [],
   "source": [
    "lsi = models.LsiModel(corpus, id2word=dictionary, num_topics=500)\n",
    "lsi.save(\"gutenberg.model\")\n",
    "index = similarities.MatrixSimilarity(lsi[corpus])\n",
    "# similarities.Similarity\n",
    "index.save('gutenberg.index')"
   ]
  },
  {
   "cell_type": "code",
   "execution_count": 249,
   "metadata": {
    "collapsed": false
   },
   "outputs": [],
   "source": [
    "#lsi.show_topics()"
   ]
  },
  {
   "cell_type": "code",
   "execution_count": 250,
   "metadata": {
    "collapsed": true
   },
   "outputs": [],
   "source": [
    "rp = models.RpModel(corpus, id2word=dictionary, num_topics=500)\n",
    "rp.save('rpgutenberg.model')\n",
    "indexRP = similarities.MatrixSimilarity(rp[corpus])\n",
    "indexRP.save('rpgutenberg.index')"
   ]
  },
  {
   "cell_type": "code",
   "execution_count": 251,
   "metadata": {
    "collapsed": true
   },
   "outputs": [],
   "source": [
    "def queryRP(doc):\n",
    "    vec_bow = dictionary.doc2bow(preprocess_string(doc))\n",
    "    vec_ = rp[vec_bow] \n",
    "    return vec_"
   ]
  },
  {
   "cell_type": "code",
   "execution_count": 252,
   "metadata": {
    "collapsed": false
   },
   "outputs": [],
   "source": [
    "#Wikipedia article about Polar Express plot\n",
    "query_texts = [\"\"\"\n",
    "A young boy, who used to adore Christmas, hears a train whistle roar. To his astonishment, he finds the train is waiting for him. He sees a conductor who then proceeds to look up at his window. He runs downstairs and goes outside. The conductor explains the train is called the Polar Express, and is journeying to the North Pole. The boy then boards the train, which is filled with chocolate and candy, as well as many other children in their pajamas.\n",
    "\n",
    "As the train reaches the North Pole, the boy and the other children see thousands of Christmas elves gathered at the center of town waiting to send Santa Claus on his way. The boy is handpicked by Santa to receive the first gift of Christmas. Realizing that he could choose anything in the world, the boy asks for one bell from one of the reindeer's harnesses. The boy places the bell in the pocket of his robe and all the children watch as Santa takes off into the night for his annual deliveries.\n",
    "\n",
    "Later, on the train ride home, the boy discovers that the bell has fallen through a hole in his pocket. The boy arrives home and goes to his bedroom as the train pulls away. On Christmas morning, his sister finds a small package for the boy under the tree, behind all of the other gifts. The boy opens the box and discovers that it is the bell, delivered by Santa who found it on the seat of his sleigh. When the boy rings the bell, both he and his sister marvel at the beautiful sound. His parents, however, are unable to hear the bell and remark that it must be broken. The book ends with the following line:\n",
    "\n",
    "At one time, most of my friends could hear the bell, but as years passed, it fell silent for all of them. Even Sarah found one Christmas that she could no longer hear its sweet sound. Though I've grown old, the bell still rings for me, as it does for all who truly believe.\n",
    "\"\"\"\"\"]\n",
    "query_RP = map(queryRP, query_texts)"
   ]
  },
  {
   "cell_type": "code",
   "execution_count": 253,
   "metadata": {
    "collapsed": false
   },
   "outputs": [
    {
     "data": {
      "text/plain": [
       "[('Northanger Abbey', 0.17584464),\n",
       " ('Great Expectations', 0.17337206),\n",
       " ('The Innocents Abroad', 0.16868544),\n",
       " ('A Tale of Two Cities', 0.15150893),\n",
       " ('The Prince and the Pauper', 0.14885591),\n",
       " ('Hard Times', 0.14732599),\n",
       " ('Grimms\\xe2\\x80\\x99 Fairy Tales', 0.14298059),\n",
       " (\"A Connecticut Yankee in King Arthur's Court\", 0.14169708),\n",
       " ('Sylvie and Bruno', 0.12176942),\n",
       " ('Pride and Prejudice', 0.10697163),\n",
       " ('Moby Dick', 0.10662378),\n",
       " ('Through the Looking-Glass', 0.072553635),\n",
       " ('Alice in Wonderland', 0.072551966),\n",
       " ('I and My Chimney', 0.068820924),\n",
       " ('Emma', 0.060252212),\n",
       " ('Mansfield Park', 0.053078458),\n",
       " (\"Eve's Diary\", 0.051006593),\n",
       " ('Persuasion', 0.031630095),\n",
       " ('A Tangled Tale', 0.031630095),\n",
       " ('Feeding the Mind', 0.031630095),\n",
       " ('The Confidence-Man: His Masquerade', 0.031630095),\n",
       " ('Pierre; or The Ambiguities', 0.031630095),\n",
       " ('Battle-Pieces and Aspects of the War', 0.031630095),\n",
       " ('A Christmas Carol', 0.031630095),\n",
       " ('Bleak House', 0.031630095),\n",
       " ('Adventures of Huckleberry Finn', 0.03102465)]"
      ]
     },
     "execution_count": 253,
     "metadata": {},
     "output_type": "execute_result"
    }
   ],
   "source": [
    "simsRP = indexRP[query_RP[0]]\n",
    "sorted(zip(text_names,simsRP),key=lambda x: x[1],reverse=True)"
   ]
  },
  {
   "cell_type": "markdown",
   "metadata": {},
   "source": [
    "So far RP model seems to be giving the worst results due to the random variance it's adding into each book."
   ]
  },
  {
   "cell_type": "code",
   "execution_count": 254,
   "metadata": {
    "collapsed": true
   },
   "outputs": [],
   "source": [
    "lda = models.LdaModel(corpus, id2word=dictionary, num_topics=500)\n",
    "lda.save('ldagutenberg.model')\n",
    "indexLda = similarities.MatrixSimilarity(lda[corpus])\n",
    "indexLda.save('ldagutenberg.index')"
   ]
  },
  {
   "cell_type": "code",
   "execution_count": 255,
   "metadata": {
    "collapsed": true
   },
   "outputs": [],
   "source": [
    "def queryLDA(doc):\n",
    "    vec_bow = dictionary.doc2bow(preprocess_string(doc))\n",
    "    vec_lda = lda[vec_bow] \n",
    "    return vec_lda"
   ]
  },
  {
   "cell_type": "code",
   "execution_count": 256,
   "metadata": {
    "collapsed": true
   },
   "outputs": [],
   "source": [
    "query_texts = [\"\"\"\n",
    "A young boy, who used to adore Christmas, hears a train whistle roar. To his astonishment, he finds the train is waiting for him. He sees a conductor who then proceeds to look up at his window. He runs downstairs and goes outside. The conductor explains the train is called the Polar Express, and is journeying to the North Pole. The boy then boards the train, which is filled with chocolate and candy, as well as many other children in their pajamas.\n",
    "\n",
    "As the train reaches the North Pole, the boy and the other children see thousands of Christmas elves gathered at the center of town waiting to send Santa Claus on his way. The boy is handpicked by Santa to receive the first gift of Christmas. Realizing that he could choose anything in the world, the boy asks for one bell from one of the reindeer's harnesses. The boy places the bell in the pocket of his robe and all the children watch as Santa takes off into the night for his annual deliveries.\n",
    "\n",
    "Later, on the train ride home, the boy discovers that the bell has fallen through a hole in his pocket. The boy arrives home and goes to his bedroom as the train pulls away. On Christmas morning, his sister finds a small package for the boy under the tree, behind all of the other gifts. The boy opens the box and discovers that it is the bell, delivered by Santa who found it on the seat of his sleigh. When the boy rings the bell, both he and his sister marvel at the beautiful sound. His parents, however, are unable to hear the bell and remark that it must be broken. The book ends with the following line:\n",
    "\n",
    "At one time, most of my friends could hear the bell, but as years passed, it fell silent for all of them. Even Sarah found one Christmas that she could no longer hear its sweet sound. Though I've grown old, the bell still rings for me, as it does for all who truly believe.\n",
    "\"\"\"\"\"]\n",
    "query_LDA = map(queryLDA, query_texts)"
   ]
  },
  {
   "cell_type": "code",
   "execution_count": 257,
   "metadata": {
    "collapsed": false
   },
   "outputs": [
    {
     "data": {
      "text/plain": [
       "[(121, 0.47889469848744604),\n",
       " (268, 0.010369043214327713),\n",
       " (300, 0.032843703158862404),\n",
       " (372, 0.36411299654749596),\n",
       " (388, 0.03397801630032888),\n",
       " (442, 0.072386669349773364)]"
      ]
     },
     "execution_count": 257,
     "metadata": {},
     "output_type": "execute_result"
    }
   ],
   "source": [
    "query_LDA[0]"
   ]
  },
  {
   "cell_type": "code",
   "execution_count": 258,
   "metadata": {
    "collapsed": false,
    "scrolled": true
   },
   "outputs": [],
   "source": [
    "simsLDA = indexLda[query_LDA[0]]"
   ]
  },
  {
   "cell_type": "code",
   "execution_count": 259,
   "metadata": {
    "collapsed": false
   },
   "outputs": [
    {
     "data": {
      "text/plain": [
       "[('I and My Chimney', 0.84503436),\n",
       " ('Moby Dick', 0.82158995),\n",
       " ('The Innocents Abroad', 0.7966786),\n",
       " ('A Tale of Two Cities', 0.74897534),\n",
       " ('Great Expectations', 0.65644503),\n",
       " ('Sylvie and Bruno', 0.63248408),\n",
       " (\"A Connecticut Yankee in King Arthur's Court\", 0.54631436),\n",
       " ('Northanger Abbey', 0.53531402),\n",
       " ('Emma', 0.52974641),\n",
       " ('Mansfield Park', 0.48785779),\n",
       " ('Hard Times', 0.4027071),\n",
       " ('Through the Looking-Glass', 0.34051466),\n",
       " ('Pride and Prejudice', 0.33996215),\n",
       " ('The Prince and the Pauper', 0.28635228),\n",
       " ('Adventures of Huckleberry Finn', 0.076895244),\n",
       " ('Grimms\\xe2\\x80\\x99 Fairy Tales', 0.062974244),\n",
       " ('Alice in Wonderland', 0.053795528),\n",
       " ('Persuasion', 0.0),\n",
       " (\"Eve's Diary\", 0.0),\n",
       " ('A Tangled Tale', 0.0),\n",
       " ('Feeding the Mind', 0.0),\n",
       " ('The Confidence-Man: His Masquerade', 0.0),\n",
       " ('Pierre; or The Ambiguities', 0.0),\n",
       " ('Battle-Pieces and Aspects of the War', 0.0),\n",
       " ('A Christmas Carol', 0.0),\n",
       " ('Bleak House', 0.0)]"
      ]
     },
     "execution_count": 259,
     "metadata": {},
     "output_type": "execute_result"
    }
   ],
   "source": [
    "sorted(zip(text_names,simsLDA),key=lambda x: x[1],reverse=True)"
   ]
  },
  {
   "cell_type": "code",
   "execution_count": 260,
   "metadata": {
    "collapsed": true
   },
   "outputs": [],
   "source": [
    "#results should've returned Christmas Carol ..."
   ]
  },
  {
   "cell_type": "markdown",
   "metadata": {},
   "source": [
    "# Query"
   ]
  },
  {
   "cell_type": "code",
   "execution_count": 261,
   "metadata": {
    "collapsed": true
   },
   "outputs": [],
   "source": [
    "def query(doc):\n",
    "    vec_bow = dictionary.doc2bow(preprocess_string(doc))\n",
    "    vec_lsi = lsi[vec_bow] \n",
    "    return vec_lsi\n"
   ]
  },
  {
   "cell_type": "code",
   "execution_count": 262,
   "metadata": {
    "collapsed": false
   },
   "outputs": [],
   "source": [
    "query_texts = [\"\"\"\n",
    "A young boy, who used to adore Christmas, hears a train whistle roar. To his astonishment, he finds the train is waiting for him. He sees a conductor who then proceeds to look up at his window. He runs downstairs and goes outside. The conductor explains the train is called the Polar Express, and is journeying to the North Pole. The boy then boards the train, which is filled with chocolate and candy, as well as many other children in their pajamas.\n",
    "\n",
    "As the train reaches the North Pole, the boy and the other children see thousands of Christmas elves gathered at the center of town waiting to send Santa Claus on his way. The boy is handpicked by Santa to receive the first gift of Christmas. Realizing that he could choose anything in the world, the boy asks for one bell from one of the reindeer's harnesses. The boy places the bell in the pocket of his robe and all the children watch as Santa takes off into the night for his annual deliveries.\n",
    "\n",
    "Later, on the train ride home, the boy discovers that the bell has fallen through a hole in his pocket. The boy arrives home and goes to his bedroom as the train pulls away. On Christmas morning, his sister finds a small package for the boy under the tree, behind all of the other gifts. The boy opens the box and discovers that it is the bell, delivered by Santa who found it on the seat of his sleigh. When the boy rings the bell, both he and his sister marvel at the beautiful sound. His parents, however, are unable to hear the bell and remark that it must be broken. The book ends with the following line:\n",
    "\n",
    "At one time, most of my friends could hear the bell, but as years passed, it fell silent for all of them. Even Sarah found one Christmas that she could no longer hear its sweet sound. Though I've grown old, the bell still rings for me, as it does for all who truly believe.\n",
    "\"\"\"\"\"]\n",
    "query_lsis = map(query,query_texts)"
   ]
  },
  {
   "cell_type": "code",
   "execution_count": 263,
   "metadata": {
    "collapsed": false
   },
   "outputs": [
    {
     "data": {
      "text/plain": [
       "[(0, 3.2531027844569107),\n",
       " (1, -0.47481108844777581),\n",
       " (2, -0.47895996781171501),\n",
       " (3, -0.13601670896506124),\n",
       " (4, -0.9602897258367038),\n",
       " (5, -0.18758601141049552),\n",
       " (6, -0.61256617776703315),\n",
       " (7, 0.36834101284291332),\n",
       " (8, 0.48536178641945477),\n",
       " (9, 0.49341574325114707),\n",
       " (10, -0.87172071000188911),\n",
       " (11, 0.9008261314373962),\n",
       " (12, 0.89783688906093762),\n",
       " (13, 0.28626865963913234),\n",
       " (14, -0.67682059228664293),\n",
       " (15, -0.31499504702696413),\n",
       " (16, -0.011501488957817533),\n",
       " (17, 0.2169213193781456)]"
      ]
     },
     "execution_count": 263,
     "metadata": {},
     "output_type": "execute_result"
    }
   ],
   "source": [
    "query_lsis[0]"
   ]
  },
  {
   "cell_type": "code",
   "execution_count": 264,
   "metadata": {
    "collapsed": false
   },
   "outputs": [],
   "source": [
    "sims = index[query_lsis[0]]"
   ]
  },
  {
   "cell_type": "code",
   "execution_count": 265,
   "metadata": {
    "collapsed": false
   },
   "outputs": [
    {
     "name": "stdout",
     "output_type": "stream",
     "text": [
      "[(0, 0.56123447), (1, 0.47847137), (2, 0.57781523), (3, 0.58258545), (4, 0.55238688), (5, 0.56871933), (6, 0.80295658), (7, 0.75257635), (8, 0.82462591), (9, 0.47863063), (10, 0.3054468), (11, 0.32612211), (12, 0.58258545), (13, 0.61943078), (14, 0.58258545), (15, 0.57197732), (16, 0.58258545), (17, 0.58258545), (18, 0.58258545), (19, 0.40270275), (20, 0.67318493), (21, 0.58258545), (22, 0.63998216), (23, 0.58258545), (24, 0.78529811), (25, 0.63453817)]\n"
     ]
    }
   ],
   "source": [
    "print(list(enumerate(sims)))"
   ]
  },
  {
   "cell_type": "code",
   "execution_count": 266,
   "metadata": {
    "collapsed": false
   },
   "outputs": [
    {
     "data": {
      "text/plain": [
       "[('The Innocents Abroad', 0.82462591),\n",
       " ('The Prince and the Pauper', 0.80295658),\n",
       " ('Great Expectations', 0.78529811),\n",
       " (\"A Connecticut Yankee in King Arthur's Court\", 0.75257635),\n",
       " ('A Tale of Two Cities', 0.67318493),\n",
       " ('Hard Times', 0.63998216),\n",
       " ('Grimms\\xe2\\x80\\x99 Fairy Tales', 0.63453817),\n",
       " ('Sylvie and Bruno', 0.61943078),\n",
       " ('Persuasion', 0.58258545),\n",
       " ('A Tangled Tale', 0.58258545),\n",
       " ('Feeding the Mind', 0.58258545),\n",
       " ('The Confidence-Man: His Masquerade', 0.58258545),\n",
       " ('Pierre; or The Ambiguities', 0.58258545),\n",
       " ('Battle-Pieces and Aspects of the War', 0.58258545),\n",
       " ('A Christmas Carol', 0.58258545),\n",
       " ('Bleak House', 0.58258545),\n",
       " ('Northanger Abbey', 0.57781523),\n",
       " ('Moby Dick', 0.57197732),\n",
       " ('Adventures of Huckleberry Finn', 0.56871933),\n",
       " ('Pride and Prejudice', 0.56123447),\n",
       " ('Mansfield Park', 0.55238688),\n",
       " (\"Eve's Diary\", 0.47863063),\n",
       " ('Emma', 0.47847137),\n",
       " ('I and My Chimney', 0.40270275),\n",
       " ('Through the Looking-Glass', 0.32612211),\n",
       " ('Alice in Wonderland', 0.3054468)]"
      ]
     },
     "execution_count": 266,
     "metadata": {},
     "output_type": "execute_result"
    }
   ],
   "source": [
    "sorted(zip(text_names,sims),key=lambda x: x[1],reverse=True)"
   ]
  },
  {
   "cell_type": "code",
   "execution_count": null,
   "metadata": {
    "collapsed": true
   },
   "outputs": [],
   "source": []
  }
 ],
 "metadata": {
  "anaconda-cloud": {},
  "kernelspec": {
   "display_name": "Python [default]",
   "language": "python",
   "name": "python2"
  },
  "language_info": {
   "codemirror_mode": {
    "name": "ipython",
    "version": 2
   },
   "file_extension": ".py",
   "mimetype": "text/x-python",
   "name": "python",
   "nbconvert_exporter": "python",
   "pygments_lexer": "ipython2",
   "version": "2.7.12"
  }
 },
 "nbformat": 4,
 "nbformat_minor": 2
}
