{
 "cells": [
  {
   "cell_type": "code",
   "execution_count": 66,
   "metadata": {
    "collapsed": false
   },
   "outputs": [],
   "source": [
    "import numpy as np\n",
    "import pandas as pd\n",
    "from gensim.parsing.preprocessing import preprocess_string,preprocess_documents\n",
    "from gensim import corpora,models, similarities\n",
    "import nltk\n",
    "import matplotlib.pyplot as plt\n",
    "import seaborn as sns\n",
    "\n",
    "from sklearn.ensemble import RandomForestClassifier, ExtraTreesClassifier, GradientBoostingClassifier, AdaBoostClassifier\n",
    "from sklearn.metrics import log_loss\n",
    "from sklearn.cross_validation import cross_val_score, train_test_split, StratifiedKFold\n",
    "from sklearn.model_selection import cross_val_predict\n",
    "from sklearn import preprocessing\n",
    "from scipy import sparse\n",
    "from sklearn.feature_extraction.text import TfidfVectorizer, CountVectorizer\n",
    "from sklearn.tree import DecisionTreeClassifier\n",
    "from mlxtend.classifier import EnsembleVoteClassifier\n",
    "import re\n",
    "import xgboost as xgb\n",
    "color = sns.color_palette()\n",
    "%matplotlib inline\n",
    "from xgboost import XGBClassifier\n",
    "from sklearn import metrics"
   ]
  },
  {
   "cell_type": "code",
   "execution_count": 73,
   "metadata": {
    "collapsed": true
   },
   "outputs": [],
   "source": []
  },
  {
   "cell_type": "code",
   "execution_count": 46,
   "metadata": {
    "collapsed": true
   },
   "outputs": [],
   "source": [
    "df1 = pd.DataFrame.from_csv('training_set_rel3.tsv', sep='\\t')"
   ]
  },
  {
   "cell_type": "code",
   "execution_count": 47,
   "metadata": {
    "collapsed": false
   },
   "outputs": [
    {
     "data": {
      "text/plain": [
       "<bound method DataFrame.head of           essay_set                                              essay  \\\n",
       "essay_id                                                                 \n",
       "1                 1  Dear local newspaper, I think effects computer...   \n",
       "2                 1  Dear @CAPS1 @CAPS2, I believe that using compu...   \n",
       "3                 1  Dear, @CAPS1 @CAPS2 @CAPS3 More and more peopl...   \n",
       "4                 1  Dear Local Newspaper, @CAPS1 I have found that...   \n",
       "5                 1  Dear @LOCATION1, I know having computers has a...   \n",
       "6                 1  Dear @LOCATION1, I think that computers have a...   \n",
       "7                 1  Did you know that more and more people these d...   \n",
       "8                 1  @PERCENT1 of people agree that computers make ...   \n",
       "9                 1  Dear reader, @ORGANIZATION1 has had a dramatic...   \n",
       "10                1  In the @LOCATION1 we have the technology of a ...   \n",
       "11                1  Dear @LOCATION1, @CAPS1 people acknowledge the...   \n",
       "12                1  Dear @CAPS1 @CAPS2 I feel that computers do ta...   \n",
       "13                1  Dear local newspaper I raed ur argument on the...   \n",
       "14                1  My three detaileds for this news paper article...   \n",
       "15                1  Dear, In this world today we should have every...   \n",
       "16                1  Dear @ORGANIZATION1, The computer blinked to l...   \n",
       "17                1  Dear Local Newspaper, I belive that computers ...   \n",
       "18                1  Dear Local Newspaper, I must admit that the ex...   \n",
       "19                1  I aegre waf the evansmant ov tnachnolage. The ...   \n",
       "20                1  Well computers can be a good or a bad thing. I...   \n",
       "21                1  Dear @CAPS1 of the @CAPS2 @CAPS3 daily, I am w...   \n",
       "22                1  Dear local Newspaper @CAPS1 a take all your co...   \n",
       "23                1  Dear local newspaper, @CAPS1 you ever see a ch...   \n",
       "24                1  Dear local newspaper, I've heard that not many...   \n",
       "25                1  Dear @CAPS1, @CAPS2 off, I beileve that comput...   \n",
       "26                1  Do you think that computers are useless? Or do...   \n",
       "27                1  Computers a good because you can get infermati...   \n",
       "28                1  Dear Newspaper, Computers are high tec and hav...   \n",
       "29                1  Dear local newspaper, @CAPS1 people throughout...   \n",
       "30                1  Dear Newspaper People, I think that computers ...   \n",
       "...             ...                                                ...   \n",
       "21592             8   We all understand the benefits of laughter. L...   \n",
       "21594             8        It was midsummer, and i could feel the c...   \n",
       "21595             8   Have you ever experienced a time with your fr...   \n",
       "21596             8   I woke up just like any other day happy yet l...   \n",
       "21598             8   Laughter is an important part of my life, eit...   \n",
       "21599             8   I sat at the table, speechless, as they told ...   \n",
       "21601             8   As I remember back, it was @DATE1. It was a h...   \n",
       "21603             8   Those eyes, it was like I was looking out int...   \n",
       "21604             8  Some say that laugh is the common language bet...   \n",
       "21605             8   Laughter is an integral element to many situa...   \n",
       "21606             8  One time I was at my friend @PERSON1's house, ...   \n",
       "21607             8   LAUGHTER @CAPS1 knows that laughter is a heal...   \n",
       "21608             8  One thing that people in the world love to do ...   \n",
       "21609             8   Laughter, to me, is an important aspect of my...   \n",
       "21610             8   People always say that the worst parts of lif...   \n",
       "21611             8   Why is it that people can look back at someth...   \n",
       "21613             8   Before my best friend moved away, we would st...   \n",
       "21615             8                                @ORGANIZATION1  ...   \n",
       "21617             8   Morose and somnolent, I woke up. I woke up to...   \n",
       "21618             8   A while back my mom had decided to send me to...   \n",
       "21619             8                              I dont like computers   \n",
       "21620             8   Everyone knows how important a laugh can be. ...   \n",
       "21621             8   Laughter is an important part of my family. W...   \n",
       "21623             8   laughter is an important part of any kind of ...   \n",
       "21624             8  Sometime ago on a hot @DATE1 day my @NUM1 ,@PE...   \n",
       "21626             8   In most stories mothers and daughters are eit...   \n",
       "21628             8   I never understood the meaning laughter is th...   \n",
       "21629             8  When you laugh, is @CAPS5 out of habit, or is ...   \n",
       "21630             8                                 Trippin' on fen...   \n",
       "21633             8   Many people believe that laughter can improve...   \n",
       "\n",
       "          rater1_domain1  rater2_domain1  rater3_domain1  domain1_score  \\\n",
       "essay_id                                                                  \n",
       "1                      4               4             NaN              8   \n",
       "2                      5               4             NaN              9   \n",
       "3                      4               3             NaN              7   \n",
       "4                      5               5             NaN             10   \n",
       "5                      4               4             NaN              8   \n",
       "6                      4               4             NaN              8   \n",
       "7                      5               5             NaN             10   \n",
       "8                      5               5             NaN             10   \n",
       "9                      4               5             NaN              9   \n",
       "10                     5               4             NaN              9   \n",
       "11                     4               4             NaN              8   \n",
       "12                     4               4             NaN              8   \n",
       "13                     4               3             NaN              7   \n",
       "14                     3               3             NaN              6   \n",
       "15                     3               3             NaN              6   \n",
       "16                     6               6             NaN             12   \n",
       "17                     4               4             NaN              8   \n",
       "18                     4               4             NaN              8   \n",
       "19                     2               2             NaN              4   \n",
       "20                     3               3             NaN              6   \n",
       "21                     4               4             NaN              8   \n",
       "22                     2               1             NaN              3   \n",
       "23                     5               5             NaN             10   \n",
       "24                     6               5             NaN             11   \n",
       "25                     4               4             NaN              8   \n",
       "26                     5               4             NaN              9   \n",
       "27                     2               2             NaN              4   \n",
       "28                     5               4             NaN              9   \n",
       "29                     5               4             NaN              9   \n",
       "30                     4               4             NaN              8   \n",
       "...                  ...             ...             ...            ...   \n",
       "21592                 20              20             NaN             40   \n",
       "21594                 17              15             NaN             32   \n",
       "21595                 18              18             NaN             36   \n",
       "21596                 15              16             NaN             31   \n",
       "21598                 15              15             NaN             30   \n",
       "21599                 25              22             NaN             47   \n",
       "21601                 20              20             NaN             40   \n",
       "21603                 17              18             NaN             35   \n",
       "21604                 16              17             NaN             33   \n",
       "21605                 18              18             NaN             36   \n",
       "21606                 20              16             NaN             36   \n",
       "21607                 25              23             NaN             48   \n",
       "21608                 20              20             NaN             40   \n",
       "21609                 20              20             NaN             40   \n",
       "21610                 20              20             NaN             40   \n",
       "21611                 22              20             NaN             42   \n",
       "21613                 20              19            40.0             40   \n",
       "21615                 15              17             NaN             32   \n",
       "21617                 18              18             NaN             36   \n",
       "21618                 20              19            40.0             40   \n",
       "21619                  5               5             NaN             10   \n",
       "21620                 18              15             NaN             33   \n",
       "21621                 24              20             NaN             44   \n",
       "21623                 18              17             NaN             35   \n",
       "21624                 17              15            30.0             30   \n",
       "21626                 17              18             NaN             35   \n",
       "21628                 15              17             NaN             32   \n",
       "21629                 20              26            40.0             40   \n",
       "21630                 20              20             NaN             40   \n",
       "21633                 20              20             NaN             40   \n",
       "\n",
       "          rater1_domain2  rater2_domain2  domain2_score  rater1_trait1  \\\n",
       "essay_id                                                                 \n",
       "1                    NaN             NaN            NaN            NaN   \n",
       "2                    NaN             NaN            NaN            NaN   \n",
       "3                    NaN             NaN            NaN            NaN   \n",
       "4                    NaN             NaN            NaN            NaN   \n",
       "5                    NaN             NaN            NaN            NaN   \n",
       "6                    NaN             NaN            NaN            NaN   \n",
       "7                    NaN             NaN            NaN            NaN   \n",
       "8                    NaN             NaN            NaN            NaN   \n",
       "9                    NaN             NaN            NaN            NaN   \n",
       "10                   NaN             NaN            NaN            NaN   \n",
       "11                   NaN             NaN            NaN            NaN   \n",
       "12                   NaN             NaN            NaN            NaN   \n",
       "13                   NaN             NaN            NaN            NaN   \n",
       "14                   NaN             NaN            NaN            NaN   \n",
       "15                   NaN             NaN            NaN            NaN   \n",
       "16                   NaN             NaN            NaN            NaN   \n",
       "17                   NaN             NaN            NaN            NaN   \n",
       "18                   NaN             NaN            NaN            NaN   \n",
       "19                   NaN             NaN            NaN            NaN   \n",
       "20                   NaN             NaN            NaN            NaN   \n",
       "21                   NaN             NaN            NaN            NaN   \n",
       "22                   NaN             NaN            NaN            NaN   \n",
       "23                   NaN             NaN            NaN            NaN   \n",
       "24                   NaN             NaN            NaN            NaN   \n",
       "25                   NaN             NaN            NaN            NaN   \n",
       "26                   NaN             NaN            NaN            NaN   \n",
       "27                   NaN             NaN            NaN            NaN   \n",
       "28                   NaN             NaN            NaN            NaN   \n",
       "29                   NaN             NaN            NaN            NaN   \n",
       "30                   NaN             NaN            NaN            NaN   \n",
       "...                  ...             ...            ...            ...   \n",
       "21592                NaN             NaN            NaN            4.0   \n",
       "21594                NaN             NaN            NaN            4.0   \n",
       "21595                NaN             NaN            NaN            4.0   \n",
       "21596                NaN             NaN            NaN            3.0   \n",
       "21598                NaN             NaN            NaN            3.0   \n",
       "21599                NaN             NaN            NaN            5.0   \n",
       "21601                NaN             NaN            NaN            4.0   \n",
       "21603                NaN             NaN            NaN            4.0   \n",
       "21604                NaN             NaN            NaN            4.0   \n",
       "21605                NaN             NaN            NaN            3.0   \n",
       "21606                NaN             NaN            NaN            4.0   \n",
       "21607                NaN             NaN            NaN            5.0   \n",
       "21608                NaN             NaN            NaN            4.0   \n",
       "21609                NaN             NaN            NaN            4.0   \n",
       "21610                NaN             NaN            NaN            4.0   \n",
       "21611                NaN             NaN            NaN            4.0   \n",
       "21613                NaN             NaN            NaN            4.0   \n",
       "21615                NaN             NaN            NaN            3.0   \n",
       "21617                NaN             NaN            NaN            4.0   \n",
       "21618                NaN             NaN            NaN            4.0   \n",
       "21619                NaN             NaN            NaN            1.0   \n",
       "21620                NaN             NaN            NaN            4.0   \n",
       "21621                NaN             NaN            NaN            5.0   \n",
       "21623                NaN             NaN            NaN            4.0   \n",
       "21624                NaN             NaN            NaN            3.0   \n",
       "21626                NaN             NaN            NaN            4.0   \n",
       "21628                NaN             NaN            NaN            3.0   \n",
       "21629                NaN             NaN            NaN            4.0   \n",
       "21630                NaN             NaN            NaN            4.0   \n",
       "21633                NaN             NaN            NaN            4.0   \n",
       "\n",
       "              ...        rater2_trait3  rater2_trait4  rater2_trait5  \\\n",
       "essay_id      ...                                                      \n",
       "1             ...                  NaN            NaN            NaN   \n",
       "2             ...                  NaN            NaN            NaN   \n",
       "3             ...                  NaN            NaN            NaN   \n",
       "4             ...                  NaN            NaN            NaN   \n",
       "5             ...                  NaN            NaN            NaN   \n",
       "6             ...                  NaN            NaN            NaN   \n",
       "7             ...                  NaN            NaN            NaN   \n",
       "8             ...                  NaN            NaN            NaN   \n",
       "9             ...                  NaN            NaN            NaN   \n",
       "10            ...                  NaN            NaN            NaN   \n",
       "11            ...                  NaN            NaN            NaN   \n",
       "12            ...                  NaN            NaN            NaN   \n",
       "13            ...                  NaN            NaN            NaN   \n",
       "14            ...                  NaN            NaN            NaN   \n",
       "15            ...                  NaN            NaN            NaN   \n",
       "16            ...                  NaN            NaN            NaN   \n",
       "17            ...                  NaN            NaN            NaN   \n",
       "18            ...                  NaN            NaN            NaN   \n",
       "19            ...                  NaN            NaN            NaN   \n",
       "20            ...                  NaN            NaN            NaN   \n",
       "21            ...                  NaN            NaN            NaN   \n",
       "22            ...                  NaN            NaN            NaN   \n",
       "23            ...                  NaN            NaN            NaN   \n",
       "24            ...                  NaN            NaN            NaN   \n",
       "25            ...                  NaN            NaN            NaN   \n",
       "26            ...                  NaN            NaN            NaN   \n",
       "27            ...                  NaN            NaN            NaN   \n",
       "28            ...                  NaN            NaN            NaN   \n",
       "29            ...                  NaN            NaN            NaN   \n",
       "30            ...                  NaN            NaN            NaN   \n",
       "...           ...                  ...            ...            ...   \n",
       "21592         ...                  4.0            4.0            4.0   \n",
       "21594         ...                  3.0            3.0            3.0   \n",
       "21595         ...                  4.0            4.0            4.0   \n",
       "21596         ...                  4.0            4.0            4.0   \n",
       "21598         ...                  3.0            4.0            3.0   \n",
       "21599         ...                  5.0            5.0            4.0   \n",
       "21601         ...                  4.0            4.0            4.0   \n",
       "21603         ...                  4.0            4.0            4.0   \n",
       "21604         ...                  4.0            3.0            3.0   \n",
       "21605         ...                  4.0            4.0            4.0   \n",
       "21606         ...                  4.0            4.0            4.0   \n",
       "21607         ...                  5.0            4.0            5.0   \n",
       "21608         ...                  4.0            4.0            4.0   \n",
       "21609         ...                  4.0            4.0            4.0   \n",
       "21610         ...                  5.0            4.0            4.0   \n",
       "21611         ...                  4.0            4.0            4.0   \n",
       "21613         ...                  4.0            4.0            4.0   \n",
       "21615         ...                  4.0            4.0            3.0   \n",
       "21617         ...                  4.0            4.0            4.0   \n",
       "21618         ...                  4.0            4.0            4.0   \n",
       "21619         ...                  1.0            1.0            1.0   \n",
       "21620         ...                  4.0            4.0            3.0   \n",
       "21621         ...                  4.0            4.0            4.0   \n",
       "21623         ...                  4.0            3.0            3.0   \n",
       "21624         ...                  4.0            4.0            3.0   \n",
       "21626         ...                  4.0            4.0            4.0   \n",
       "21628         ...                  4.0            4.0            4.0   \n",
       "21629         ...                  5.0            5.0            5.0   \n",
       "21630         ...                  4.0            4.0            4.0   \n",
       "21633         ...                  4.0            4.0            4.0   \n",
       "\n",
       "          rater2_trait6  rater3_trait1  rater3_trait2  rater3_trait3  \\\n",
       "essay_id                                                               \n",
       "1                   NaN            NaN            NaN            NaN   \n",
       "2                   NaN            NaN            NaN            NaN   \n",
       "3                   NaN            NaN            NaN            NaN   \n",
       "4                   NaN            NaN            NaN            NaN   \n",
       "5                   NaN            NaN            NaN            NaN   \n",
       "6                   NaN            NaN            NaN            NaN   \n",
       "7                   NaN            NaN            NaN            NaN   \n",
       "8                   NaN            NaN            NaN            NaN   \n",
       "9                   NaN            NaN            NaN            NaN   \n",
       "10                  NaN            NaN            NaN            NaN   \n",
       "11                  NaN            NaN            NaN            NaN   \n",
       "12                  NaN            NaN            NaN            NaN   \n",
       "13                  NaN            NaN            NaN            NaN   \n",
       "14                  NaN            NaN            NaN            NaN   \n",
       "15                  NaN            NaN            NaN            NaN   \n",
       "16                  NaN            NaN            NaN            NaN   \n",
       "17                  NaN            NaN            NaN            NaN   \n",
       "18                  NaN            NaN            NaN            NaN   \n",
       "19                  NaN            NaN            NaN            NaN   \n",
       "20                  NaN            NaN            NaN            NaN   \n",
       "21                  NaN            NaN            NaN            NaN   \n",
       "22                  NaN            NaN            NaN            NaN   \n",
       "23                  NaN            NaN            NaN            NaN   \n",
       "24                  NaN            NaN            NaN            NaN   \n",
       "25                  NaN            NaN            NaN            NaN   \n",
       "26                  NaN            NaN            NaN            NaN   \n",
       "27                  NaN            NaN            NaN            NaN   \n",
       "28                  NaN            NaN            NaN            NaN   \n",
       "29                  NaN            NaN            NaN            NaN   \n",
       "30                  NaN            NaN            NaN            NaN   \n",
       "...                 ...            ...            ...            ...   \n",
       "21592               4.0            NaN            NaN            NaN   \n",
       "21594               3.0            NaN            NaN            NaN   \n",
       "21595               4.0            NaN            NaN            NaN   \n",
       "21596               3.0            NaN            NaN            NaN   \n",
       "21598               3.0            NaN            NaN            NaN   \n",
       "21599               4.0            NaN            NaN            NaN   \n",
       "21601               4.0            NaN            NaN            NaN   \n",
       "21603               3.0            NaN            NaN            NaN   \n",
       "21604               3.0            NaN            NaN            NaN   \n",
       "21605               4.0            NaN            NaN            NaN   \n",
       "21606               3.0            NaN            NaN            NaN   \n",
       "21607               4.0            NaN            NaN            NaN   \n",
       "21608               4.0            NaN            NaN            NaN   \n",
       "21609               4.0            NaN            NaN            NaN   \n",
       "21610               4.0            NaN            NaN            NaN   \n",
       "21611               4.0            NaN            NaN            NaN   \n",
       "21613               4.0            4.0            4.0            4.0   \n",
       "21615               3.0            NaN            NaN            NaN   \n",
       "21617               3.0            NaN            NaN            NaN   \n",
       "21618               4.0            4.0            4.0            4.0   \n",
       "21619               1.0            NaN            NaN            NaN   \n",
       "21620               3.0            NaN            NaN            NaN   \n",
       "21621               4.0            NaN            NaN            NaN   \n",
       "21623               3.0            NaN            NaN            NaN   \n",
       "21624               3.0            3.0            3.0            4.0   \n",
       "21626               3.0            NaN            NaN            NaN   \n",
       "21628               3.0            NaN            NaN            NaN   \n",
       "21629               5.0            4.0            4.0            4.0   \n",
       "21630               4.0            NaN            NaN            NaN   \n",
       "21633               4.0            NaN            NaN            NaN   \n",
       "\n",
       "          rater3_trait4  rater3_trait5  rater3_trait6  \n",
       "essay_id                                               \n",
       "1                   NaN            NaN            NaN  \n",
       "2                   NaN            NaN            NaN  \n",
       "3                   NaN            NaN            NaN  \n",
       "4                   NaN            NaN            NaN  \n",
       "5                   NaN            NaN            NaN  \n",
       "6                   NaN            NaN            NaN  \n",
       "7                   NaN            NaN            NaN  \n",
       "8                   NaN            NaN            NaN  \n",
       "9                   NaN            NaN            NaN  \n",
       "10                  NaN            NaN            NaN  \n",
       "11                  NaN            NaN            NaN  \n",
       "12                  NaN            NaN            NaN  \n",
       "13                  NaN            NaN            NaN  \n",
       "14                  NaN            NaN            NaN  \n",
       "15                  NaN            NaN            NaN  \n",
       "16                  NaN            NaN            NaN  \n",
       "17                  NaN            NaN            NaN  \n",
       "18                  NaN            NaN            NaN  \n",
       "19                  NaN            NaN            NaN  \n",
       "20                  NaN            NaN            NaN  \n",
       "21                  NaN            NaN            NaN  \n",
       "22                  NaN            NaN            NaN  \n",
       "23                  NaN            NaN            NaN  \n",
       "24                  NaN            NaN            NaN  \n",
       "25                  NaN            NaN            NaN  \n",
       "26                  NaN            NaN            NaN  \n",
       "27                  NaN            NaN            NaN  \n",
       "28                  NaN            NaN            NaN  \n",
       "29                  NaN            NaN            NaN  \n",
       "30                  NaN            NaN            NaN  \n",
       "...                 ...            ...            ...  \n",
       "21592               NaN            NaN            NaN  \n",
       "21594               NaN            NaN            NaN  \n",
       "21595               NaN            NaN            NaN  \n",
       "21596               NaN            NaN            NaN  \n",
       "21598               NaN            NaN            NaN  \n",
       "21599               NaN            NaN            NaN  \n",
       "21601               NaN            NaN            NaN  \n",
       "21603               NaN            NaN            NaN  \n",
       "21604               NaN            NaN            NaN  \n",
       "21605               NaN            NaN            NaN  \n",
       "21606               NaN            NaN            NaN  \n",
       "21607               NaN            NaN            NaN  \n",
       "21608               NaN            NaN            NaN  \n",
       "21609               NaN            NaN            NaN  \n",
       "21610               NaN            NaN            NaN  \n",
       "21611               NaN            NaN            NaN  \n",
       "21613               4.0            4.0            4.0  \n",
       "21615               NaN            NaN            NaN  \n",
       "21617               NaN            NaN            NaN  \n",
       "21618               4.0            4.0            4.0  \n",
       "21619               NaN            NaN            NaN  \n",
       "21620               NaN            NaN            NaN  \n",
       "21621               NaN            NaN            NaN  \n",
       "21623               NaN            NaN            NaN  \n",
       "21624               4.0            3.0            3.0  \n",
       "21626               NaN            NaN            NaN  \n",
       "21628               NaN            NaN            NaN  \n",
       "21629               4.0            4.0            4.0  \n",
       "21630               NaN            NaN            NaN  \n",
       "21633               NaN            NaN            NaN  \n",
       "\n",
       "[12976 rows x 27 columns]>"
      ]
     },
     "execution_count": 47,
     "metadata": {},
     "output_type": "execute_result"
    }
   ],
   "source": [
    "df1.head"
   ]
  },
  {
   "cell_type": "code",
   "execution_count": 48,
   "metadata": {
    "collapsed": false,
    "scrolled": true
   },
   "outputs": [
    {
     "data": {
      "text/plain": [
       "essay_set             0\n",
       "essay                 0\n",
       "rater1_domain1        0\n",
       "rater2_domain1        0\n",
       "rater3_domain1    12848\n",
       "domain1_score         0\n",
       "rater1_domain2    11176\n",
       "rater2_domain2    11176\n",
       "domain2_score     11176\n",
       "rater1_trait1     10684\n",
       "rater1_trait2     10684\n",
       "rater1_trait3     10684\n",
       "rater1_trait4     10684\n",
       "rater1_trait5     12253\n",
       "rater1_trait6     12253\n",
       "rater2_trait1     10684\n",
       "rater2_trait2     10684\n",
       "rater2_trait3     10684\n",
       "rater2_trait4     10684\n",
       "rater2_trait5     12253\n",
       "rater2_trait6     12253\n",
       "rater3_trait1     12848\n",
       "rater3_trait2     12848\n",
       "rater3_trait3     12848\n",
       "rater3_trait4     12848\n",
       "rater3_trait5     12848\n",
       "rater3_trait6     12848\n",
       "dtype: int64"
      ]
     },
     "execution_count": 48,
     "metadata": {},
     "output_type": "execute_result"
    }
   ],
   "source": [
    "df1.isnull().sum()"
   ]
  },
  {
   "cell_type": "code",
   "execution_count": 49,
   "metadata": {
    "collapsed": false
   },
   "outputs": [],
   "source": [
    "#dropping the other scores because those are being evaluated as a different metrics \n",
    "#and due to time constraints we don't have time to work with those yet\n",
    "df1.dropna(axis =1, inplace=True)"
   ]
  },
  {
   "cell_type": "code",
   "execution_count": 50,
   "metadata": {
    "collapsed": false
   },
   "outputs": [
    {
     "data": {
      "text/html": [
       "<div>\n",
       "<table border=\"1\" class=\"dataframe\">\n",
       "  <thead>\n",
       "    <tr style=\"text-align: right;\">\n",
       "      <th></th>\n",
       "      <th>essay_set</th>\n",
       "      <th>essay</th>\n",
       "      <th>rater1_domain1</th>\n",
       "      <th>rater2_domain1</th>\n",
       "      <th>domain1_score</th>\n",
       "    </tr>\n",
       "    <tr>\n",
       "      <th>essay_id</th>\n",
       "      <th></th>\n",
       "      <th></th>\n",
       "      <th></th>\n",
       "      <th></th>\n",
       "      <th></th>\n",
       "    </tr>\n",
       "  </thead>\n",
       "  <tbody>\n",
       "    <tr>\n",
       "      <th>1</th>\n",
       "      <td>1</td>\n",
       "      <td>Dear local newspaper, I think effects computer...</td>\n",
       "      <td>4</td>\n",
       "      <td>4</td>\n",
       "      <td>8</td>\n",
       "    </tr>\n",
       "    <tr>\n",
       "      <th>2</th>\n",
       "      <td>1</td>\n",
       "      <td>Dear @CAPS1 @CAPS2, I believe that using compu...</td>\n",
       "      <td>5</td>\n",
       "      <td>4</td>\n",
       "      <td>9</td>\n",
       "    </tr>\n",
       "    <tr>\n",
       "      <th>3</th>\n",
       "      <td>1</td>\n",
       "      <td>Dear, @CAPS1 @CAPS2 @CAPS3 More and more peopl...</td>\n",
       "      <td>4</td>\n",
       "      <td>3</td>\n",
       "      <td>7</td>\n",
       "    </tr>\n",
       "    <tr>\n",
       "      <th>4</th>\n",
       "      <td>1</td>\n",
       "      <td>Dear Local Newspaper, @CAPS1 I have found that...</td>\n",
       "      <td>5</td>\n",
       "      <td>5</td>\n",
       "      <td>10</td>\n",
       "    </tr>\n",
       "    <tr>\n",
       "      <th>5</th>\n",
       "      <td>1</td>\n",
       "      <td>Dear @LOCATION1, I know having computers has a...</td>\n",
       "      <td>4</td>\n",
       "      <td>4</td>\n",
       "      <td>8</td>\n",
       "    </tr>\n",
       "  </tbody>\n",
       "</table>\n",
       "</div>"
      ],
      "text/plain": [
       "          essay_set                                              essay  \\\n",
       "essay_id                                                                 \n",
       "1                 1  Dear local newspaper, I think effects computer...   \n",
       "2                 1  Dear @CAPS1 @CAPS2, I believe that using compu...   \n",
       "3                 1  Dear, @CAPS1 @CAPS2 @CAPS3 More and more peopl...   \n",
       "4                 1  Dear Local Newspaper, @CAPS1 I have found that...   \n",
       "5                 1  Dear @LOCATION1, I know having computers has a...   \n",
       "\n",
       "          rater1_domain1  rater2_domain1  domain1_score  \n",
       "essay_id                                                 \n",
       "1                      4               4              8  \n",
       "2                      5               4              9  \n",
       "3                      4               3              7  \n",
       "4                      5               5             10  \n",
       "5                      4               4              8  "
      ]
     },
     "execution_count": 50,
     "metadata": {},
     "output_type": "execute_result"
    }
   ],
   "source": [
    "df1.head()"
   ]
  },
  {
   "cell_type": "code",
   "execution_count": 51,
   "metadata": {
    "collapsed": false,
    "scrolled": true
   },
   "outputs": [],
   "source": [
    "df1.to_csv('newdf.csv')"
   ]
  },
  {
   "cell_type": "code",
   "execution_count": 53,
   "metadata": {
    "collapsed": false
   },
   "outputs": [],
   "source": [
    "df1 = pd.read_csv('newdf.csv', encoding=\"ISO-8859-1\")"
   ]
  },
  {
   "cell_type": "code",
   "execution_count": 63,
   "metadata": {
    "collapsed": false
   },
   "outputs": [],
   "source": [
    "#basic models with simple count vectorizing with no additional features to predict individual and domain scores\n",
    "\n",
    "c_vect = CountVectorizer(stop_words='english', max_features=200, ngram_range=(1, 1))\n",
    "c_vect.fit(df1['essay'])\n",
    "\n",
    "c_vect_sparse_1 = c_vect.transform(df1['essay'])\n",
    "c_vect_sparse1_cols = c_vect.get_feature_names()\n",
    "\n",
    "pred_feats = ['essay_set']\n",
    "\n",
    "df2 = df1['essay_set']\n",
    "df2 = pd.DataFrame(df2)\n",
    "\n",
    "df_cv1_sparse = sparse.hstack((df2.astype(float), c_vect_sparse_1)).tocsr()\n",
    "pred_feats += c_vect_sparse1_cols\n",
    "\n",
    "y_train1 = df1.rater1_domain1\n",
    "y_train2 = df1.rater2_domain1\n",
    "y_train3 = df1.domain1_score\n",
    "\n",
    "\n"
   ]
  },
  {
   "cell_type": "code",
   "execution_count": 67,
   "metadata": {
    "collapsed": false
   },
   "outputs": [
    {
     "data": {
      "text/plain": [
       "(12976, 201)"
      ]
     },
     "execution_count": 67,
     "metadata": {},
     "output_type": "execute_result"
    }
   ],
   "source": [
    "df_cv1_sparse.shape"
   ]
  },
  {
   "cell_type": "code",
   "execution_count": 69,
   "metadata": {
    "collapsed": false
   },
   "outputs": [
    {
     "data": {
      "text/plain": [
       "RandomForestClassifier(bootstrap=True, class_weight=None, criterion='gini',\n",
       "            max_depth=17, max_features='auto', max_leaf_nodes=None,\n",
       "            min_impurity_split=1e-07, min_samples_leaf=1,\n",
       "            min_samples_split=2, min_weight_fraction_leaf=0.0,\n",
       "            n_estimators=1000, n_jobs=1, oob_score=True, random_state=None,\n",
       "            verbose=0, warm_start=False)"
      ]
     },
     "execution_count": 69,
     "metadata": {},
     "output_type": "execute_result"
    }
   ],
   "source": [
    "rf = RandomForestClassifier(n_estimators=1000, max_depth= 17, min_samples_leaf= 1, oob_score=True)\n",
    "rf.fit(df_cv1_sparse, y_train1)"
   ]
  },
  {
   "cell_type": "code",
   "execution_count": 72,
   "metadata": {
    "collapsed": false,
    "scrolled": true
   },
   "outputs": [
    {
     "ename": "NameError",
     "evalue": "name 'metrics' is not defined",
     "output_type": "error",
     "traceback": [
      "\u001b[0;31m---------------------------------------------------------------------------\u001b[0m",
      "\u001b[0;31mNameError\u001b[0m                                 Traceback (most recent call last)",
      "\u001b[0;32m<ipython-input-72-0ba57ec878dc>\u001b[0m in \u001b[0;36m<module>\u001b[0;34m()\u001b[0m\n\u001b[1;32m      1\u001b[0m \u001b[0mpredicted\u001b[0m \u001b[1;33m=\u001b[0m \u001b[0mcross_val_predict\u001b[0m\u001b[1;33m(\u001b[0m\u001b[0mrf\u001b[0m\u001b[1;33m,\u001b[0m \u001b[0mdf_cv1_sparse\u001b[0m\u001b[1;33m,\u001b[0m \u001b[0my_train1\u001b[0m\u001b[1;33m,\u001b[0m \u001b[0mcv\u001b[0m\u001b[1;33m=\u001b[0m\u001b[1;36m5\u001b[0m\u001b[1;33m)\u001b[0m\u001b[1;33m\u001b[0m\u001b[0m\n\u001b[0;32m----> 2\u001b[0;31m \u001b[0mmetrics\u001b[0m\u001b[1;33m.\u001b[0m\u001b[0maccuracy_score\u001b[0m\u001b[1;33m(\u001b[0m\u001b[0my_train1\u001b[0m\u001b[1;33m,\u001b[0m \u001b[0mpredicted\u001b[0m\u001b[1;33m)\u001b[0m\u001b[1;33m\u001b[0m\u001b[0m\n\u001b[0m",
      "\u001b[0;31mNameError\u001b[0m: name 'metrics' is not defined"
     ]
    }
   ],
   "source": [
    "predicted = cross_val_predict(rf, df_cv1_sparse, y_train1, cv=5)\n"
   ]
  },
  {
   "cell_type": "code",
   "execution_count": 74,
   "metadata": {
    "collapsed": false
   },
   "outputs": [
    {
     "data": {
      "text/plain": [
       "0.39773427866831074"
      ]
     },
     "execution_count": 74,
     "metadata": {},
     "output_type": "execute_result"
    }
   ],
   "source": [
    "metrics.accuracy_score(y_train1, predicted)"
   ]
  },
  {
   "cell_type": "code",
   "execution_count": 78,
   "metadata": {
    "collapsed": false
   },
   "outputs": [
    {
     "data": {
      "text/plain": [
       "0.42678791615289768"
      ]
     },
     "execution_count": 78,
     "metadata": {},
     "output_type": "execute_result"
    }
   ],
   "source": [
    "#note GBM in sklearn only accepts dense arrays during prediction step\n",
    "gbm0 = GradientBoostingClassifier(n_estimators=2000, max_features=5, subsample= 0.8)\n",
    "gbm0.fit(df_cv1_sparse.toarray(), y_train1)\n",
    "\n",
    "predicted1 = cross_val_predict(gbm0, df_cv1_sparse.toarray(), y_train1, cv=5)\n",
    "metrics.accuracy_score(y_train1, predicted1)"
   ]
  },
  {
   "cell_type": "code",
   "execution_count": 79,
   "metadata": {
    "collapsed": false
   },
   "outputs": [
    {
     "data": {
      "text/plain": [
       "['rf_model0.pkl']"
      ]
     },
     "execution_count": 79,
     "metadata": {},
     "output_type": "execute_result"
    }
   ],
   "source": [
    "from sklearn.externals import joblib\n",
    "joblib.dump(gbm0, 'gbm_model0.pkl')\n",
    "joblib.dump(rf, 'rf_model0.pkl')"
   ]
  },
  {
   "cell_type": "code",
   "execution_count": null,
   "metadata": {
    "collapsed": true
   },
   "outputs": [],
   "source": [
    "#use text from sample questions to create query topics\n",
    "#extract text from essay docs, cosine similarity?"
   ]
  },
  {
   "cell_type": "code",
   "execution_count": 80,
   "metadata": {
    "collapsed": true
   },
   "outputs": [],
   "source": [
    "#acquiring corpus from both some gutenberg text as well as those from a \"big\" text file downloaded from here:\n",
    "# https://github.com/luistp001/LT-Autograder/tree/master/AdditionalFiles\n",
    "from gutenberg.cleanup import strip_headers\n",
    "import requests\n",
    "# http://nbviewer.jupyter.org/github/rare-technologies/gensim/blob/develop/docs/notebooks/atmodel_tutorial.ipynb\n",
    "\n",
    "def load_etext(num):\n",
    "  url ='http://www.gutenberg.org/files/{0}/{0}-0.txt'.format(num)\n",
    "  data= requests.get(url)\n",
    "  return data.text\n",
    "\n",
    "texts =[]\n",
    "text_nums=[1342, 158, 121, 105, 141,\n",
    "           76,1837, 86, 3176, 8525,\n",
    "           11,12, 29042, 620,35535,\n",
    "           2701,21816, 34970, 12384,2694,\n",
    "           98,19337, 786, 1023, 1400,\n",
    "           2591]\n",
    "text_names =['Pride and Prejudice', 'Emma', 'Northanger Abbey', \"Persuasion\", \"Mansfield Park\",\n",
    "             'Adventures of Huckleberry Finn', 'The Prince and the Pauper', \"A Connecticut Yankee in King Arthur's Court\", \"The Innocents Abroad\", \"Eve's Diary\", \n",
    "             \"Alice in Wonderland\",\"Through the Looking-Glass\", \"A Tangled Tale\", \"Sylvie and Bruno\", \"Feeding the Mind\",\n",
    "            \"Moby Dick\", \"The Confidence-Man: His Masquerade\", \"Pierre; or The Ambiguities\", \"Battle-Pieces and Aspects of the War\",\"I and My Chimney\",\n",
    "             \"A Tale of Two Cities\",\"A Christmas Carol\",\"Hard Times\", \"Bleak House\", \"Great Expectations\",\n",
    "             \"Grimms’ Fairy Tales\", \n",
    "            ]\n",
    "for text_num in text_nums:\n",
    "    text = strip_headers(load_etext(text_num)).strip()\n",
    "    texts.append(text)\n"
   ]
  },
  {
   "cell_type": "code",
   "execution_count": 81,
   "metadata": {
    "collapsed": true
   },
   "outputs": [],
   "source": [
    "processed_docs = preprocess_documents(texts)\n",
    "dictionary = corpora.Dictionary(processed_docs)\n",
    "dictionary.save('gutenberg.dict')\n",
    "corpus = [dictionary.doc2bow(text) for text in processed_docs]\n",
    "corpora.MmCorpus.serialize('gutenberg.mm', corpus) "
   ]
  },
  {
   "cell_type": "code",
   "execution_count": 82,
   "metadata": {
    "collapsed": true
   },
   "outputs": [],
   "source": [
    "lsi = models.LsiModel(corpus, id2word=dictionary, num_topics=500)\n",
    "lsi.save(\"gutenberg.model\")"
   ]
  },
  {
   "cell_type": "code",
   "execution_count": 83,
   "metadata": {
    "collapsed": true
   },
   "outputs": [],
   "source": [
    "lda = models.LdaModel(corpus, id2word=dictionary, num_topics=50, iterations= 500)\n",
    "lda.save('ldagutenberg.model')"
   ]
  },
  {
   "cell_type": "code",
   "execution_count": null,
   "metadata": {
    "collapsed": true
   },
   "outputs": [],
   "source": [
    "index = similarities.MatrixSimilarity(lsi[corpus])\n",
    "# similarities.Similarity\n",
    "index.save('gutenberg.index')"
   ]
  },
  {
   "cell_type": "code",
   "execution_count": null,
   "metadata": {
    "collapsed": true
   },
   "outputs": [],
   "source": [
    "indexLda = similarities.MatrixSimilarity(lda[corpus])\n",
    "indexLda.save('ldagutenberg.index')"
   ]
  },
  {
   "cell_type": "code",
   "execution_count": 103,
   "metadata": {
    "collapsed": true
   },
   "outputs": [],
   "source": [
    "bigcorpus = corpora.TextCorpus(input = 'big.txt')"
   ]
  },
  {
   "cell_type": "code",
   "execution_count": 104,
   "metadata": {
    "collapsed": false
   },
   "outputs": [
    {
     "data": {
      "text/plain": [
       "<gensim.corpora.textcorpus.TextCorpus at 0x13955780>"
      ]
     },
     "execution_count": 104,
     "metadata": {},
     "output_type": "execute_result"
    }
   ],
   "source": [
    "bigcorpus"
   ]
  },
  {
   "cell_type": "code",
   "execution_count": 108,
   "metadata": {
    "collapsed": false
   },
   "outputs": [
    {
     "ename": "TypeError",
     "evalue": "'Dictionary' object is not callable",
     "output_type": "error",
     "traceback": [
      "\u001b[0;31m---------------------------------------------------------------------------\u001b[0m",
      "\u001b[0;31mTypeError\u001b[0m                                 Traceback (most recent call last)",
      "\u001b[0;32m<ipython-input-108-bb6d980b578e>\u001b[0m in \u001b[0;36m<module>\u001b[0;34m()\u001b[0m\n\u001b[0;32m----> 1\u001b[0;31m \u001b[0mbigcorpus\u001b[0m\u001b[1;33m.\u001b[0m\u001b[0mdictionary\u001b[0m\u001b[1;33m(\u001b[0m\u001b[1;33m)\u001b[0m\u001b[1;33m\u001b[0m\u001b[0m\n\u001b[0m",
      "\u001b[0;31mTypeError\u001b[0m: 'Dictionary' object is not callable"
     ]
    }
   ],
   "source": []
  },
  {
   "cell_type": "code",
   "execution_count": 98,
   "metadata": {
    "collapsed": false
   },
   "outputs": [
    {
     "ename": "AttributeError",
     "evalue": "'int' object has no attribute 'words'",
     "output_type": "error",
     "traceback": [
      "\u001b[0;31m---------------------------------------------------------------------------\u001b[0m",
      "\u001b[0;31mAttributeError\u001b[0m                            Traceback (most recent call last)",
      "\u001b[0;32m<ipython-input-98-d7a7ea38b257>\u001b[0m in \u001b[0;36m<module>\u001b[0;34m()\u001b[0m\n\u001b[1;32m     10\u001b[0m \u001b[1;31m# build\u001b[0m\u001b[1;33m\u001b[0m\u001b[1;33m\u001b[0m\u001b[0m\n\u001b[1;32m     11\u001b[0m \u001b[0mmodel\u001b[0m \u001b[1;33m=\u001b[0m \u001b[0mDoc2Vec\u001b[0m\u001b[1;33m(\u001b[0m\u001b[0msize\u001b[0m\u001b[1;33m=\u001b[0m\u001b[0mint\u001b[0m\u001b[1;33m(\u001b[0m\u001b[0mvec_dim\u001b[0m\u001b[1;33m)\u001b[0m\u001b[1;33m,\u001b[0m \u001b[0mwindow\u001b[0m\u001b[1;33m=\u001b[0m\u001b[0mwin_size\u001b[0m\u001b[1;33m,\u001b[0m \u001b[0malpha\u001b[0m\u001b[1;33m=\u001b[0m\u001b[0malpha\u001b[0m\u001b[1;33m,\u001b[0m \u001b[0mmin_count\u001b[0m\u001b[1;33m=\u001b[0m\u001b[0mmin_count\u001b[0m\u001b[1;33m,\u001b[0m \u001b[0msample\u001b[0m\u001b[1;33m=\u001b[0m\u001b[0msample\u001b[0m\u001b[1;33m,\u001b[0m \u001b[0mworkers\u001b[0m\u001b[1;33m=\u001b[0m\u001b[0mworkers\u001b[0m\u001b[1;33m)\u001b[0m\u001b[1;33m\u001b[0m\u001b[0m\n\u001b[0;32m---> 12\u001b[0;31m \u001b[0mmodel\u001b[0m\u001b[1;33m.\u001b[0m\u001b[0mbuild_vocab\u001b[0m\u001b[1;33m(\u001b[0m\u001b[0mdictionary\u001b[0m\u001b[1;33m)\u001b[0m\u001b[1;33m\u001b[0m\u001b[0m\n\u001b[0m\u001b[1;32m     13\u001b[0m \u001b[0mtmpList\u001b[0m \u001b[1;33m=\u001b[0m \u001b[0mdictionary\u001b[0m\u001b[1;33m\u001b[0m\u001b[0m\n\u001b[1;32m     14\u001b[0m \u001b[1;32mprint\u001b[0m \u001b[1;34m'Training Model...'\u001b[0m\u001b[1;33m\u001b[0m\u001b[0m\n",
      "\u001b[0;32mD:\\Drace\\Anaconda2\\lib\\site-packages\\gensim\\models\\word2vec.pyc\u001b[0m in \u001b[0;36mbuild_vocab\u001b[0;34m(self, sentences, keep_raw_vocab, trim_rule, progress_per, update)\u001b[0m\n\u001b[1;32m    542\u001b[0m \u001b[1;33m\u001b[0m\u001b[0m\n\u001b[1;32m    543\u001b[0m         \"\"\"\n\u001b[0;32m--> 544\u001b[0;31m         \u001b[0mself\u001b[0m\u001b[1;33m.\u001b[0m\u001b[0mscan_vocab\u001b[0m\u001b[1;33m(\u001b[0m\u001b[0msentences\u001b[0m\u001b[1;33m,\u001b[0m \u001b[0mprogress_per\u001b[0m\u001b[1;33m=\u001b[0m\u001b[0mprogress_per\u001b[0m\u001b[1;33m,\u001b[0m \u001b[0mtrim_rule\u001b[0m\u001b[1;33m=\u001b[0m\u001b[0mtrim_rule\u001b[0m\u001b[1;33m)\u001b[0m  \u001b[1;31m# initial survey\u001b[0m\u001b[1;33m\u001b[0m\u001b[0m\n\u001b[0m\u001b[1;32m    545\u001b[0m         \u001b[0mself\u001b[0m\u001b[1;33m.\u001b[0m\u001b[0mscale_vocab\u001b[0m\u001b[1;33m(\u001b[0m\u001b[0mkeep_raw_vocab\u001b[0m\u001b[1;33m=\u001b[0m\u001b[0mkeep_raw_vocab\u001b[0m\u001b[1;33m,\u001b[0m \u001b[0mtrim_rule\u001b[0m\u001b[1;33m=\u001b[0m\u001b[0mtrim_rule\u001b[0m\u001b[1;33m,\u001b[0m \u001b[0mupdate\u001b[0m\u001b[1;33m=\u001b[0m\u001b[0mupdate\u001b[0m\u001b[1;33m)\u001b[0m  \u001b[1;31m# trim by min_count & precalculate downsampling\u001b[0m\u001b[1;33m\u001b[0m\u001b[0m\n\u001b[1;32m    546\u001b[0m         \u001b[0mself\u001b[0m\u001b[1;33m.\u001b[0m\u001b[0mfinalize_vocab\u001b[0m\u001b[1;33m(\u001b[0m\u001b[0mupdate\u001b[0m\u001b[1;33m=\u001b[0m\u001b[0mupdate\u001b[0m\u001b[1;33m)\u001b[0m  \u001b[1;31m# build tables & arrays\u001b[0m\u001b[1;33m\u001b[0m\u001b[0m\n",
      "\u001b[0;32mD:\\Drace\\Anaconda2\\lib\\site-packages\\gensim\\models\\doc2vec.pyc\u001b[0m in \u001b[0;36mscan_vocab\u001b[0;34m(self, documents, progress_per, trim_rule, update)\u001b[0m\n\u001b[1;32m    672\u001b[0m         \u001b[1;32mfor\u001b[0m \u001b[0mdocument_no\u001b[0m\u001b[1;33m,\u001b[0m \u001b[0mdocument\u001b[0m \u001b[1;32min\u001b[0m \u001b[0menumerate\u001b[0m\u001b[1;33m(\u001b[0m\u001b[0mdocuments\u001b[0m\u001b[1;33m)\u001b[0m\u001b[1;33m:\u001b[0m\u001b[1;33m\u001b[0m\u001b[0m\n\u001b[1;32m    673\u001b[0m             \u001b[1;32mif\u001b[0m \u001b[1;32mnot\u001b[0m \u001b[0mchecked_string_types\u001b[0m\u001b[1;33m:\u001b[0m\u001b[1;33m\u001b[0m\u001b[0m\n\u001b[0;32m--> 674\u001b[0;31m                 \u001b[1;32mif\u001b[0m \u001b[0misinstance\u001b[0m\u001b[1;33m(\u001b[0m\u001b[0mdocument\u001b[0m\u001b[1;33m.\u001b[0m\u001b[0mwords\u001b[0m\u001b[1;33m,\u001b[0m \u001b[0mstring_types\u001b[0m\u001b[1;33m)\u001b[0m\u001b[1;33m:\u001b[0m\u001b[1;33m\u001b[0m\u001b[0m\n\u001b[0m\u001b[1;32m    675\u001b[0m                     logger.warn(\"Each 'words' should be a list of words (usually unicode strings).\"\n\u001b[1;32m    676\u001b[0m                                 \"First 'words' here is instead plain %s.\" % type(document.words))\n",
      "\u001b[0;31mAttributeError\u001b[0m: 'int' object has no attribute 'words'"
     ]
    }
   ],
   "source": [
    "from gensim.models import Doc2Vec\n",
    "# [Doc2Vec Parameters]\n",
    "vec_dim = 30\n",
    "win_size = 1\n",
    "alpha = 0.01\n",
    "min_count = 2\n",
    "sample = 1e-5\n",
    "workers = 100\n",
    "epochs = 10\n",
    "# build\n",
    "model = Doc2Vec(size=int(vec_dim), window=win_size, alpha=alpha, min_count=min_count, sample=sample, workers=workers)\n",
    "model.build_vocab(dictionary)\n",
    "tmpList = dictionary\n",
    "print 'Training Model...'\n",
    "for e in range(epochs):\n",
    "    print '\\tEpoch ' + str(e)\n",
    "random.shuffle(tmpList)\n",
    "model.alpha -= 0.001\n",
    "model.min_alpha = model.alpha\n"
   ]
  }
 ],
 "metadata": {
  "anaconda-cloud": {},
  "kernelspec": {
   "display_name": "Python [default]",
   "language": "python",
   "name": "python2"
  },
  "language_info": {
   "codemirror_mode": {
    "name": "ipython",
    "version": 2
   },
   "file_extension": ".py",
   "mimetype": "text/x-python",
   "name": "python",
   "nbconvert_exporter": "python",
   "pygments_lexer": "ipython2",
   "version": "2.7.12"
  }
 },
 "nbformat": 4,
 "nbformat_minor": 1
}
