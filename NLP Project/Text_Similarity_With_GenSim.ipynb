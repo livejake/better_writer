{
 "cells": [
  {
   "cell_type": "code",
   "execution_count": 97,
   "metadata": {
    "collapsed": false
   },
   "outputs": [],
   "source": [
    "from gutenberg.cleanup import strip_headers\n",
    "import requests\n",
    "\n",
    "def load_etext(num):\n",
    "  url ='http://www.gutenberg.org/files/{0}/{0}-0.txt'.format(num)\n",
    "  data= requests.get(url)\n",
    "  return data.text\n",
    "\n",
    "texts =[]\n",
    "text_nums=[1342,76,11,2701,98,2591]\n",
    "text_names =['Pride and Prejudice','Adventures of Huckleberry Finn',\"Alice’s Adventures in Wonderland\",\n",
    "            \"Moby Dick\", \"A Tale of Two Cities\",\"Grimms’ Fairy Tales\"]\n",
    "for text_num in text_nums:\n",
    "    text = strip_headers(load_etext(text_num)).strip()\n",
    "    texts.append(text)"
   ]
  },
  {
   "cell_type": "markdown",
   "metadata": {},
   "source": [
    "# Preprocess Text\n",
    "\n",
    "- Lowercase\n",
    "- Strip Tags\n",
    "- Strip Punctuation\n",
    "- Strip Multiple Whitespaces\n",
    "- Strip Numeric\n",
    "- Remove Stopwords\n",
    "- Strip Shortwords\n",
    "- Stem Text\n"
   ]
  },
  {
   "cell_type": "code",
   "execution_count": 73,
   "metadata": {
    "collapsed": false
   },
   "outputs": [],
   "source": [
    "from gensim.parsing.preprocessing import preprocess_string,preprocess_documents\n",
    "from gensim import corpora,models, similarities\n"
   ]
  },
  {
   "cell_type": "code",
   "execution_count": 74,
   "metadata": {
    "collapsed": false
   },
   "outputs": [],
   "source": [
    "processed_docs = preprocess_documents(texts)"
   ]
  },
  {
   "cell_type": "code",
   "execution_count": 75,
   "metadata": {
    "collapsed": false
   },
   "outputs": [],
   "source": [
    "dictionary = corpora.Dictionary(processed_docs)\n",
    "dictionary.save('gutenberg.dict')"
   ]
  },
  {
   "cell_type": "code",
   "execution_count": 76,
   "metadata": {
    "collapsed": false
   },
   "outputs": [
    {
     "name": "stdout",
     "output_type": "stream",
     "text": [
      "Dictionary(17922 unique tokens: [u'\\u2014\\u2018the', u'\\u201cbroke', u'\\u2018most', u'woodi', u'beauvai']...)\n"
     ]
    }
   ],
   "source": [
    "print(dictionary)"
   ]
  },
  {
   "cell_type": "code",
   "execution_count": 78,
   "metadata": {
    "collapsed": false
   },
   "outputs": [],
   "source": [
    "corpus = [dictionary.doc2bow(text) for text in processed_docs]\n",
    "corpora.MmCorpus.serialize('gutenberg.mm', corpus) "
   ]
  },
  {
   "cell_type": "markdown",
   "metadata": {},
   "source": [
    "# Model"
   ]
  },
  {
   "cell_type": "code",
   "execution_count": 84,
   "metadata": {
    "collapsed": false
   },
   "outputs": [],
   "source": [
    "lsi = models.LsiModel(corpus, id2word=dictionary, num_topics=500)\n",
    "index = similarities.MatrixSimilarity(lsi[corpus])\n",
    "index.save('gutenberg.index')"
   ]
  },
  {
   "cell_type": "markdown",
   "metadata": {},
   "source": [
    "# Query"
   ]
  },
  {
   "cell_type": "code",
   "execution_count": 85,
   "metadata": {
    "collapsed": true
   },
   "outputs": [],
   "source": [
    "def query(doc):\n",
    "    vec_bow = dictionary.doc2bow(doc.lower().split())\n",
    "    vec_lsi = lsi[vec_bow] \n",
    "    return vec_lsi\n"
   ]
  },
  {
   "cell_type": "code",
   "execution_count": 86,
   "metadata": {
    "collapsed": false
   },
   "outputs": [],
   "source": [
    "query_texts = [\"\"\"  In fact, the artist's design seemed this: a final theory of my own,\n",
    "partly based upon the aggregated opinions of many aged persons with whom\n",
    "I conversed upon the subject. The picture represents a Cape-Horner in a\n",
    "great hurricane; the half-foundered ship weltering there with its three\n",
    "dismantled masts alone visible; and an exasperated whale, purposing to\n",
    "spring clean over the craft, is in the enormous act of impaling himself\n",
    "upon the three mast-heads.\n",
    "\n",
    "The opposite wall of this entry was hung all over with a heathenish\n",
    "array of monstrous clubs and spears. Some were thickly set with\n",
    "glittering teeth resembling ivory saws; others were tufted with knots of\n",
    "human hair; and one was sickle-shaped, with a vast handle sweeping round\n",
    "like the segment made in the new-mown grass by a long-armed mower. You\n",
    "shuddered as you gazed, and wondered what monstrous cannibal and savage\n",
    "could ever have gone a death-harvesting with such a hacking, horrifying\n",
    "implement. Mixed with these were rusty old whaling lances and harpoons\n",
    "all broken and deformed. Some were storied weapons. With this once long\n",
    "lance, now wildly elbowed, fifty years ago did Nathan Swain kill fifteen\n",
    "whales between a sunrise and a sunset. And that harpoon--so like a\n",
    "corkscrew now--was flung in Javan seas, and run away with by a whale,\n",
    "years afterwards slain off the Cape of Blanco. The original iron entered\n",
    "nigh the tail, and, like a restless needle sojourning in the body of a\n",
    "man, travelled full forty feet, and at last was found imbedded in the\n",
    "hump.\n",
    "\n",
    "Crossing this dusky entry, and on through yon low-arched way--cut\n",
    "through what in old times must have been a great central chimney with\n",
    "fireplaces all round--you enter the public room. A still duskier place\n",
    "is this, with such low ponderous beams above, and such old wrinkled\n",
    "planks beneath, that you would almost fancy you trod some old craft's\n",
    "cockpits, especially of such a howling night, when this corner-anchored\n",
    "old ark rocked so furiously. On one side stood a long, low, shelf-like\n",
    "table covered with cracked glass cases, filled with dusty rarities\n",
    "gathered from this wide world's remotest nooks. Projecting from the\n",
    "further angle of the room stands a dark-looking den--the bar--a rude\n",
    "attempt at a right whale's head. Be that how it may, there stands the\n",
    "vast arched bone of the whale's jaw, so wide, a coach might almost drive\n",
    "beneath it. Within are shabby shelves, ranged round with old decanters,\n",
    "bottles, flasks; and in those jaws of swift destruction, like another\n",
    "cursed Jonah (by which name indeed they called him), bustles a little\n",
    "withered old man, who, for their money, dearly sells the sailors\n",
    "deliriums and death.\n",
    "\n",
    "Abominable are the tumblers into which he pours his poison. Though\n",
    "true cylinders without--within, the villanous green goggling glasses\n",
    "deceitfully tapered downwards to a cheating bottom. Parallel meridians\n",
    "rudely pecked into the glass, surround these footpads' goblets. Fill to\n",
    "THIS mark, and your charge is but a penny; to THIS a penny more; and so\n",
    "on to the full glass--the Cape Horn measure, which you may gulp down for\n",
    "a shilling.\n",
    "\n",
    "Upon entering the place I found a number of young seamen gathered about\n",
    "a table, examining by a dim light divers specimens of SKRIMSHANDER. I\n",
    "sought the landlord, and telling him I desired to be accommodated with a\n",
    "room, received for answer that his house was full--not a bed unoccupied.\n",
    "\"But avast,\" he added, tapping his forehead, \"you haint no objections\n",
    "to sharing a harpooneer's blanket, have ye? I s'pose you are goin'\n",
    "a-whalin', so you'd better get used to that sort of thing.\"\n",
    "\n",
    "I told him that I never liked to sleep two in a bed; that if I should\n",
    "ever do so, it would depend upon who the harpooneer might be, and\n",
    "that if he (the landlord) really had no other place for me, and the\n",
    "harpooneer was not decidedly objectionable, why rather than wander\n",
    "further about a strange town on so bitter a night, I would put up with\n",
    "the half of any decent man's blanket.\n",
    "\n",
    "\"I thought so. All right; take a seat. Supper?--you want supper?\n",
    "Supper'll be ready directly.\"\"\"\"\"]\n",
    "query_lsis = map(query,query_texts)"
   ]
  },
  {
   "cell_type": "code",
   "execution_count": 87,
   "metadata": {
    "collapsed": false
   },
   "outputs": [
    {
     "data": {
      "text/plain": [
       "[(0, 3.9305810457115062),\n",
       " (1, -1.2363802398549046),\n",
       " (2, 0.6331834880420697),\n",
       " (3, -0.085418237325354918),\n",
       " (4, 0.10500558462158441),\n",
       " (5, 0.51639858523624793)]"
      ]
     },
     "execution_count": 87,
     "metadata": {},
     "output_type": "execute_result"
    }
   ],
   "source": [
    "query_lsis[0]"
   ]
  },
  {
   "cell_type": "code",
   "execution_count": 88,
   "metadata": {
    "collapsed": false
   },
   "outputs": [],
   "source": [
    "sims = index[query_lsis[0]]"
   ]
  },
  {
   "cell_type": "code",
   "execution_count": 89,
   "metadata": {
    "collapsed": false
   },
   "outputs": [
    {
     "name": "stdout",
     "output_type": "stream",
     "text": [
      "[(0, 0.42142335), (1, 0.67105377), (2, 0.36168447), (3, 0.95134634), (4, 0.67198771), (5, 0.56603765)]\n"
     ]
    }
   ],
   "source": [
    "print(list(enumerate(sims)))"
   ]
  },
  {
   "cell_type": "code",
   "execution_count": 94,
   "metadata": {
    "collapsed": false
   },
   "outputs": [
    {
     "data": {
      "text/plain": [
       "[('Moby Dick', 0.95134634),\n",
       " ('A Tale of Two Cities', 0.67198771),\n",
       " ('Adventures of Huckleberry Finn', 0.67105377),\n",
       " ('Grimms\\xe2\\x80\\x99 Fairy Tales', 0.56603765),\n",
       " ('Pride and Prejudice', 0.42142335),\n",
       " ('Alice\\xe2\\x80\\x99s Adventures in Wonderland', 0.36168447)]"
      ]
     },
     "execution_count": 94,
     "metadata": {},
     "output_type": "execute_result"
    }
   ],
   "source": [
    "sorted(zip(text_names,sims),key=lambda x: x[1],reverse=True)"
   ]
  },
  {
   "cell_type": "markdown",
   "metadata": {},
   "source": [
    "# Moby Dick Matches Moby Dick"
   ]
  },
  {
   "cell_type": "code",
   "execution_count": null,
   "metadata": {
    "collapsed": true
   },
   "outputs": [],
   "source": []
  }
 ],
 "metadata": {
  "kernelspec": {
   "display_name": "Python 2",
   "language": "python",
   "name": "python2"
  },
  "language_info": {
   "codemirror_mode": {
    "name": "ipython",
    "version": 2
   },
   "file_extension": ".py",
   "mimetype": "text/x-python",
   "name": "python",
   "nbconvert_exporter": "python",
   "pygments_lexer": "ipython2",
   "version": "2.7.9"
  }
 },
 "nbformat": 4,
 "nbformat_minor": 2
}
