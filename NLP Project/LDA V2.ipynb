{
 "cells": [
  {
   "cell_type": "code",
   "execution_count": 1,
   "metadata": {
    "collapsed": false
   },
   "outputs": [],
   "source": [
    "from gutenberg.cleanup import strip_headers\n",
    "import requests\n",
    "# http://nbviewer.jupyter.org/github/rare-technologies/gensim/blob/develop/docs/notebooks/atmodel_tutorial.ipynb\n",
    "\n",
    "def load_etext(num):\n",
    "  url ='http://www.gutenberg.org/files/{0}/{0}-0.txt'.format(num)\n",
    "  data= requests.get(url)\n",
    "  return data.text"
   ]
  },
  {
   "cell_type": "code",
   "execution_count": 3,
   "metadata": {
    "collapsed": false
   },
   "outputs": [],
   "source": [
    "texts =[]\n",
    "\n",
    "text_nums=[1342, 158, 121, 105, 141,\n",
    "           76,74, 86, 3176, 8525, 245,\n",
    "           11,12, 29042, 620,35535,\n",
    "           2701,21816, 34970, 12384,2694,\n",
    "           98,19337, 786, 1023, 1400, 730, \n",
    "           1795, 2265, 2251, 2253, 1794, 1514, 1793, 1513, 1801,\n",
    "           2814, 4217, 4300,\n",
    "           5200,\n",
    "           2554,\n",
    "           84,\n",
    "           1399,\n",
    "           140,\n",
    "           345,\n",
    "           174\n",
    "         ]\n",
    "text_names =['Pride and Prejudice', 'Emma', 'Northanger Abbey', \"Persuasion\", \"Mansfield Park\",\n",
    "             'Adventures of Huckleberry Finn', 'The Adventures of Tom Sawyer', \"A Connecticut Yankee in King Arthur's Court\", \"The Innocents Abroad\", \"Eve's Diary\", \"Life on the Mississippi\", \n",
    "             \"Alice in Wonderland\",\"Through the Looking-Glass\", \"A Tangled Tale\", \"Sylvie and Bruno\", \"Feeding the Mind\",\n",
    "            \"Moby Dick\", \"The Confidence-Man: His Masquerade\", \"Pierre; or The Ambiguities\", \"Battle-Pieces and Aspects of the War\",\"I and My Chimney\",\n",
    "             \"A Tale of Two Cities\",\"A Christmas Carol\",\"Hard Times\", \"Bleak House\", \"Great Expectations\", \"Oliver Twist\",\n",
    "             \"MacBeth\", \"Hamlet\", \"Henry IV, Part 1\", \"Henry V\", \"King Lear\", \"A Midsummer Night's Dream\", \"Othello\", \"Romeo and Juliet\", \"The Tempest\",\n",
    "             \"Dubliners\", \"A Portrait of the Artist as a Young Man\", \"Ulysses\",\n",
    "             \"Metamorphosis\",\n",
    "             \"Crime and Punishment\",\n",
    "             \"Frankenstein; Or, The Modern Prometheus\",\n",
    "             \"Anna Karenina\",\n",
    "             \"The Jungle\",\n",
    "             \"Dracula\",\n",
    "             \"The Picture of Dorian Gray\"\n",
    "            ]\n",
    "for text_num in text_nums:\n",
    "    text = strip_headers(load_etext(text_num)).strip()\n",
    "    texts.append(text)"
   ]
  },
  {
   "cell_type": "markdown",
   "metadata": {},
   "source": [
    "# Preprocess Text\n",
    "\n",
    "- Lowercase\n",
    "- Strip Tags\n",
    "- Strip Punctuation\n",
    "- Strip Multiple Whitespaces\n",
    "- Strip Numeric\n",
    "- Remove Stopwords\n",
    "- Strip Shortwords\n",
    "- Stem Text\n"
   ]
  },
  {
   "cell_type": "code",
   "execution_count": 4,
   "metadata": {
    "collapsed": false
   },
   "outputs": [
    {
     "name": "stderr",
     "output_type": "stream",
     "text": [
      "D:\\Drace\\Anaconda2\\lib\\site-packages\\gensim\\utils.py:855: UserWarning: detected Windows; aliasing chunkize to chunkize_serial\n",
      "  warnings.warn(\"detected Windows; aliasing chunkize to chunkize_serial\")\n"
     ]
    }
   ],
   "source": [
    "from gensim.parsing.preprocessing import preprocess_string,preprocess_documents\n",
    "from gensim import corpora,models, similarities\n"
   ]
  },
  {
   "cell_type": "code",
   "execution_count": 5,
   "metadata": {
    "collapsed": false
   },
   "outputs": [],
   "source": [
    "processed_docs = preprocess_documents(texts)"
   ]
  },
  {
   "cell_type": "code",
   "execution_count": 6,
   "metadata": {
    "collapsed": false
   },
   "outputs": [],
   "source": [
    "dictionary = corpora.Dictionary(processed_docs)\n",
    "dictionary.save('gutenberg.dict')"
   ]
  },
  {
   "cell_type": "code",
   "execution_count": 7,
   "metadata": {
    "collapsed": false
   },
   "outputs": [
    {
     "name": "stdout",
     "output_type": "stream",
     "text": [
      "Dictionary(44269 unique tokens: [u'fawn', u'\\u2014\\u2018the', u'piffpaff', u'\\u2014peep', u'mustachio']...)\n"
     ]
    }
   ],
   "source": [
    "print(dictionary)"
   ]
  },
  {
   "cell_type": "code",
   "execution_count": 8,
   "metadata": {
    "collapsed": false
   },
   "outputs": [],
   "source": [
    "corpus = [dictionary.doc2bow(text) for text in processed_docs]\n",
    "corpora.MmCorpus.serialize('gutenberg.mm', corpus) "
   ]
  },
  {
   "cell_type": "markdown",
   "metadata": {},
   "source": [
    "# After some model tweaking and different query"
   ]
  },
  {
   "cell_type": "code",
   "execution_count": 195,
   "metadata": {
    "collapsed": false
   },
   "outputs": [],
   "source": [
    "lda = models.LdaModel(corpus, id2word=dictionary, num_topics=75, iterations= 1000, alpha= 'asymmetric')\n",
    "lda.save('ldagutenberg.model')\n",
    "indexLda = similarities.MatrixSimilarity(lda[corpus])\n",
    "indexLda.save('ldagutenberg.index')"
   ]
  },
  {
   "cell_type": "code",
   "execution_count": 196,
   "metadata": {
    "collapsed": true
   },
   "outputs": [],
   "source": [
    "def queryLDA(doc):\n",
    "    vec_bow = dictionary.doc2bow(preprocess_string(doc))\n",
    "    vec_lda = lda[vec_bow] \n",
    "    return vec_lda"
   ]
  },
  {
   "cell_type": "code",
   "execution_count": 197,
   "metadata": {
    "collapsed": true
   },
   "outputs": [],
   "source": [
    "query_texts = [\"\"\"\n",
    "ip’s story—the story of the novel—traces his development through the events of his early life; his narration, however, written years after the end of the story, is a product of his character as it exists after the events of the story. Pip’s narration thus reveals the psychological endpoint of his development in the novel. Pip’s behavior as a character often reveals only part of the story—he treats Joe coldly, for instance—while his manner as a narrator completes that story: his guilt for his poor behavior toward his loved ones endures, even as he writes about his early life years later. Of course, Dickens manipulates Pip’s narration in order to evoke its subjects effectively: Pip’s childhood is narrated in a much more childlike voice than his adult years, even though the narrator Pip presumably writes both parts of the story at a single later date. Dickens also uses Pip’s narration to reinforce particular aspects of his character that emerge in the course of the novel: we know from his actions that Pip is somewhat self-centered but sympathetic at heart to others; Pip’s later narration of his relationships with others tends to reflect those qualities. When Magwitch reveals that he is Pip’s benefactor, for instance, Pip is disgusted by the convict and describes him solely in negative terms; as his affection for Magwitch grows, the descriptive terms he chooses to apply to the convict become much more positive.\n",
    "\"\"\"\"\"]\n",
    "query_LDA = map(queryLDA, query_texts)"
   ]
  },
  {
   "cell_type": "code",
   "execution_count": 198,
   "metadata": {
    "collapsed": false,
    "scrolled": true
   },
   "outputs": [
    {
     "data": {
      "text/plain": [
       "[(5, 0.9413487907073399), (21, 0.050497952099912397)]"
      ]
     },
     "execution_count": 198,
     "metadata": {},
     "output_type": "execute_result"
    }
   ],
   "source": [
    "query_LDA[0]"
   ]
  },
  {
   "cell_type": "code",
   "execution_count": 199,
   "metadata": {
    "collapsed": false,
    "scrolled": true
   },
   "outputs": [],
   "source": [
    "simsLDA = indexLda[query_LDA[0]]"
   ]
  },
  {
   "cell_type": "code",
   "execution_count": 200,
   "metadata": {
    "collapsed": false,
    "scrolled": true
   },
   "outputs": [
    {
     "data": {
      "text/plain": [
       "[('Sylvie and Bruno', 0.51769108),\n",
       " (\"A Connecticut Yankee in King Arthur's Court\", 0.44035211),\n",
       " ('Great Expectations', 0.36185449),\n",
       " ('A Tale of Two Cities', 0.31765339),\n",
       " ('The Innocents Abroad', 0.31264672),\n",
       " ('Life on the Mississippi', 0.29334447),\n",
       " ('Moby Dick', 0.1059795),\n",
       " ('Anna Karenina', 0.039721411),\n",
       " ('Northanger Abbey', 0.022235036),\n",
       " ('Pride and Prejudice', 0.0),\n",
       " ('Emma', 0.0),\n",
       " ('Persuasion', 0.0),\n",
       " ('Mansfield Park', 0.0),\n",
       " ('Adventures of Huckleberry Finn', 0.0),\n",
       " ('The Adventures of Tom Sawyer', 0.0),\n",
       " (\"Eve's Diary\", 0.0),\n",
       " ('Alice in Wonderland', 0.0),\n",
       " ('Through the Looking-Glass', 0.0),\n",
       " ('A Tangled Tale', 0.0),\n",
       " ('Feeding the Mind', 0.0),\n",
       " ('The Confidence-Man: His Masquerade', 0.0),\n",
       " ('Pierre; or The Ambiguities', 0.0),\n",
       " ('Battle-Pieces and Aspects of the War', 0.0),\n",
       " ('I and My Chimney', 0.0),\n",
       " ('A Christmas Carol', 0.0),\n",
       " ('Hard Times', 0.0),\n",
       " ('Bleak House', 0.0),\n",
       " ('Oliver Twist', 0.0),\n",
       " ('MacBeth', 0.0),\n",
       " ('Hamlet', 0.0),\n",
       " ('Henry IV, Part 1', 0.0),\n",
       " ('Henry V', 0.0),\n",
       " ('King Lear', 0.0),\n",
       " (\"A Midsummer Night's Dream\", 0.0),\n",
       " ('Othello', 0.0),\n",
       " ('Romeo and Juliet', 0.0),\n",
       " ('The Tempest', 0.0),\n",
       " ('Dubliners', 0.0),\n",
       " ('A Portrait of the Artist as a Young Man', 0.0),\n",
       " ('Ulysses', 0.0),\n",
       " ('Metamorphosis', 0.0),\n",
       " ('Crime and Punishment', 0.0),\n",
       " ('Frankenstein; Or, The Modern Prometheus', 0.0),\n",
       " ('The Jungle', 0.0),\n",
       " ('Dracula', 0.0),\n",
       " ('The Picture of Dorian Gray', 0.0)]"
      ]
     },
     "execution_count": 200,
     "metadata": {},
     "output_type": "execute_result"
    }
   ],
   "source": [
    "sorted(zip(text_names,simsLDA),key=lambda x: x[1],reverse=True)"
   ]
  },
  {
   "cell_type": "code",
   "execution_count": 201,
   "metadata": {
    "collapsed": false
   },
   "outputs": [
    {
     "data": {
      "text/plain": [
       "[('Moby Dick', 0.85463953),\n",
       " ('Ulysses', 0.050821528),\n",
       " ('Sylvie and Bruno', 0.033483319),\n",
       " ('Hard Times', 0.020253118),\n",
       " ('A Tale of Two Cities', 0.01743748),\n",
       " ('Mansfield Park', 0.0064144032),\n",
       " ('The Innocents Abroad', 0.0007874929),\n",
       " ('Pride and Prejudice', 0.0),\n",
       " ('Emma', 0.0),\n",
       " ('Northanger Abbey', 0.0),\n",
       " ('Persuasion', 0.0),\n",
       " ('Adventures of Huckleberry Finn', 0.0),\n",
       " ('The Adventures of Tom Sawyer', 0.0),\n",
       " (\"A Connecticut Yankee in King Arthur's Court\", 0.0),\n",
       " (\"Eve's Diary\", 0.0),\n",
       " ('Life on the Mississippi', 0.0),\n",
       " ('Alice in Wonderland', 0.0),\n",
       " ('Through the Looking-Glass', 0.0),\n",
       " ('A Tangled Tale', 0.0),\n",
       " ('Feeding the Mind', 0.0),\n",
       " ('The Confidence-Man: His Masquerade', 0.0),\n",
       " ('Pierre; or The Ambiguities', 0.0),\n",
       " ('Battle-Pieces and Aspects of the War', 0.0),\n",
       " ('I and My Chimney', 0.0),\n",
       " ('A Christmas Carol', 0.0),\n",
       " ('Bleak House', 0.0),\n",
       " ('Great Expectations', 0.0),\n",
       " ('Oliver Twist', 0.0),\n",
       " ('MacBeth', 0.0),\n",
       " ('Hamlet', 0.0),\n",
       " ('Henry IV, Part 1', 0.0),\n",
       " ('Henry V', 0.0),\n",
       " ('King Lear', 0.0),\n",
       " (\"A Midsummer Night's Dream\", 0.0),\n",
       " ('Othello', 0.0),\n",
       " ('Romeo and Juliet', 0.0),\n",
       " ('The Tempest', 0.0),\n",
       " ('Dubliners', 0.0),\n",
       " ('A Portrait of the Artist as a Young Man', 0.0),\n",
       " ('Metamorphosis', 0.0),\n",
       " ('Crime and Punishment', 0.0),\n",
       " ('Frankenstein; Or, The Modern Prometheus', 0.0),\n",
       " ('Anna Karenina', 0.0),\n",
       " ('The Jungle', 0.0),\n",
       " ('Dracula', 0.0),\n",
       " ('The Picture of Dorian Gray', 0.0)]"
      ]
     },
     "execution_count": 201,
     "metadata": {},
     "output_type": "execute_result"
    }
   ],
   "source": [
    "query_texts1 = ['''The Pequod leaves Nantucket on a cold Christmas Day with a crew made up of men from many different countries and races. Soon the ship is in warmer waters, and Ahab makes his first appearance on deck, balancing gingerly on his false leg, which is made from a sperm whale’s jaw. He announces his desire to pursue and kill Moby Dick, the legendary great white whale who took his leg, because he sees this whale as the embodiment of evil. Ahab nails a gold doubloon to the mast and declares that it will be the prize for the first man to sight the whale. As the Pequod sails toward the southern tip of Africa, whales are sighted and unsuccessfully hunted. During the hunt, a group of men, none of whom anyone on the ship’s crew has seen before on the voyage, emerges from the hold. The men’s leader is an exotic-looking man named Fedallah. These men constitute Ahab’s private harpoon crew, smuggled aboard in defiance of Bildad and Peleg. Ahab hopes that their skills and Fedallah’s prophetic abilities will help him in his hunt for Moby Dick.\n",
    "\n",
    "The Pequod rounds Africa and enters the Indian Ocean. A few whales are successfully caught and processed for their oil. From time to time, the ship encounters other whaling vessels. Ahab always demands information about Moby Dick from their captains. One of the ships, the Jeroboam, carries Gabriel, a crazed prophet who predicts doom for anyone who threatens Moby Dick. His predictions seem to carry some weight, as those aboard his ship who have hunted the whale have met disaster. While trying to drain the oil from the head of a captured sperm whale, Tashtego, one of the Pequod’s harpooners, falls into the whale’s voluminous head, which then rips free of the ship and begins to sink. Queequeg saves Tashtego by diving into the ocean and cutting into the slowly sinking head.''']\n",
    "query_LDA1 = map(queryLDA, query_texts1)\n",
    "simsLDA1 = indexLda[query_LDA1[0]]\n",
    "sorted(zip(text_names,simsLDA1),key=lambda x: x[1],reverse=True)\n",
    "#should give Moby Dick"
   ]
  },
  {
   "cell_type": "code",
   "execution_count": 202,
   "metadata": {
    "collapsed": false
   },
   "outputs": [
    {
     "data": {
      "text/plain": [
       "[('Sylvie and Bruno', 0.80725151),\n",
       " ('Ulysses', 0.5910477),\n",
       " ('A Tale of Two Cities', 0.43241709),\n",
       " (\"A Connecticut Yankee in King Arthur's Court\", 0.35542217),\n",
       " ('Great Expectations', 0.29206425),\n",
       " ('The Innocents Abroad', 0.26150551),\n",
       " ('Life on the Mississippi', 0.23676762),\n",
       " ('Hard Times', 0.23554109),\n",
       " ('Moby Dick', 0.085539415),\n",
       " ('Mansfield Park', 0.07459867),\n",
       " ('Northanger Abbey', 0.017946603),\n",
       " ('Pride and Prejudice', 0.0),\n",
       " ('Emma', 0.0),\n",
       " ('Persuasion', 0.0),\n",
       " ('Adventures of Huckleberry Finn', 0.0),\n",
       " ('The Adventures of Tom Sawyer', 0.0),\n",
       " (\"Eve's Diary\", 0.0),\n",
       " ('Alice in Wonderland', 0.0),\n",
       " ('Through the Looking-Glass', 0.0),\n",
       " ('A Tangled Tale', 0.0),\n",
       " ('Feeding the Mind', 0.0),\n",
       " ('The Confidence-Man: His Masquerade', 0.0),\n",
       " ('Pierre; or The Ambiguities', 0.0),\n",
       " ('Battle-Pieces and Aspects of the War', 0.0),\n",
       " ('I and My Chimney', 0.0),\n",
       " ('A Christmas Carol', 0.0),\n",
       " ('Bleak House', 0.0),\n",
       " ('Oliver Twist', 0.0),\n",
       " ('MacBeth', 0.0),\n",
       " ('Hamlet', 0.0),\n",
       " ('Henry IV, Part 1', 0.0),\n",
       " ('Henry V', 0.0),\n",
       " ('King Lear', 0.0),\n",
       " (\"A Midsummer Night's Dream\", 0.0),\n",
       " ('Othello', 0.0),\n",
       " ('Romeo and Juliet', 0.0),\n",
       " ('The Tempest', 0.0),\n",
       " ('Dubliners', 0.0),\n",
       " ('A Portrait of the Artist as a Young Man', 0.0),\n",
       " ('Metamorphosis', 0.0),\n",
       " ('Crime and Punishment', 0.0),\n",
       " ('Frankenstein; Or, The Modern Prometheus', 0.0),\n",
       " ('Anna Karenina', 0.0),\n",
       " ('The Jungle', 0.0),\n",
       " ('Dracula', 0.0),\n",
       " ('The Picture of Dorian Gray', 0.0)]"
      ]
     },
     "execution_count": 202,
     "metadata": {},
     "output_type": "execute_result"
    }
   ],
   "source": [
    "query_texts2 = ['''The intricacies and tedium of high society, particularly partner selection.\n",
    "The conflicts of marriage for love and marriage for property.\n",
    "Life lived as if in a Gothic novel, filled with danger and intrigue, and the obsession with all things Gothic.\n",
    "The dangers of believing life is the same as fiction.\n",
    "The maturation of the young into skeptical adulthood, the loss of imagination, innocence and good faith.\n",
    "Things are not what they seem at first.\n",
    "Social criticism (comedy of manners).\n",
    "Parody of the Gothic novels' \"Gothic and anti-Gothic\" attitudes.''']\n",
    "query_LDA2 = map(queryLDA, query_texts2)\n",
    "simsLDA2 = indexLda[query_LDA2[0]]\n",
    "sorted(zip(text_names,simsLDA2),key=lambda x: x[1],reverse=True)\n",
    "\n",
    "#should give Northanger Abbey.\n",
    "\n",
    "#BIG SUCCESS.  This was only a theme outline from wikipedia with NO mention of words from the book and it was able to correctly identify the text"
   ]
  },
  {
   "cell_type": "markdown",
   "metadata": {},
   "source": [
    "# Query"
   ]
  },
  {
   "cell_type": "markdown",
   "metadata": {
    "collapsed": true
   },
   "source": [
    "notes:\n",
    "150 topics, 2000 iterations, model cannot capture the general themes.  Too many topics drown out the specifics.\n",
    "140 topics, 2000 iterations, model lost accuracy in all fields\n",
    "130 topics, 2000 iterations, model became very inaccurate, going to jump iterations\n",
    "130 topics, 2500 iterations, model performed roughly as well as 150 topics, 2000 iterations\n",
    "100 topics, 2500 iterations, model performed worse than previous but significantly more confident in prediction of term paper Moby Dick\n",
    "75 topics, 2500 iterations, model performs similarly to 130, 2500\n",
    "50, 2500 iterations, model worse performance\n",
    "50, 3000 iterations, model predicts correctly with confidence in q1,2 and incorrectly with confidence 3\n",
    "50, 4K iterations, model worse performance\n",
    "150, 4K iterations, slight improvement scores on q1,2, incorrect on 3\n",
    "200, 4K iterations, worse in all scores\n",
    "200, 1K iterations, incorrect confident on q1, correct confident on 2,3\n",
    "75, 1K iterations, no improvement.\n",
    "\n",
    "will need to save log tomorrow"
   ]
  }
 ],
 "metadata": {
  "anaconda-cloud": {},
  "kernelspec": {
   "display_name": "Python [default]",
   "language": "python",
   "name": "python2"
  },
  "language_info": {
   "codemirror_mode": {
    "name": "ipython",
    "version": 2
   },
   "file_extension": ".py",
   "mimetype": "text/x-python",
   "name": "python",
   "nbconvert_exporter": "python",
   "pygments_lexer": "ipython2",
   "version": "2.7.12"
  }
 },
 "nbformat": 4,
 "nbformat_minor": 2
}
